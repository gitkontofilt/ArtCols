{
  "nbformat": 4,
  "nbformat_minor": 0,
  "metadata": {
    "colab": {
      "name": "Untitled0.ipynb",
      "provenance": []
    },
    "kernelspec": {
      "name": "python3",
      "display_name": "Python 3"
    },
    "widgets": {
      "application/vnd.jupyter.widget-state+json": {
        "78af957b94944869afc290b7ceddc6e8": {
          "model_module": "@jupyter-widgets/controls",
          "model_name": "VBoxModel",
          "state": {
            "_view_name": "VBoxView",
            "_dom_classes": [],
            "_model_name": "VBoxModel",
            "_view_module": "@jupyter-widgets/controls",
            "_model_module_version": "1.5.0",
            "_view_count": null,
            "_view_module_version": "1.5.0",
            "box_style": "",
            "layout": "IPY_MODEL_62d59f6a9b0d4406a673958352faffa0",
            "_model_module": "@jupyter-widgets/controls",
            "children": [
              "IPY_MODEL_f405b4b8e62c490fae22f7495122a179",
              "IPY_MODEL_f7a2aace6bb448d2950a25d772050d97",
              "IPY_MODEL_4fcd9c85c3ea418fb365cc92c512276f",
              "IPY_MODEL_3d43367941b9468b8d5d75b7b198adca",
              "IPY_MODEL_2523159d7a8e491d91972d5bb4c787da"
            ]
          }
        },
        "62d59f6a9b0d4406a673958352faffa0": {
          "model_module": "@jupyter-widgets/base",
          "model_name": "LayoutModel",
          "state": {
            "_view_name": "LayoutView",
            "grid_template_rows": null,
            "right": null,
            "justify_content": null,
            "_view_module": "@jupyter-widgets/base",
            "overflow": null,
            "_model_module_version": "1.2.0",
            "_view_count": null,
            "flex_flow": null,
            "width": null,
            "min_width": null,
            "border": null,
            "align_items": null,
            "bottom": null,
            "_model_module": "@jupyter-widgets/base",
            "top": null,
            "grid_column": null,
            "overflow_y": null,
            "overflow_x": null,
            "grid_auto_flow": null,
            "grid_area": null,
            "grid_template_columns": null,
            "flex": null,
            "_model_name": "LayoutModel",
            "justify_items": null,
            "grid_row": null,
            "max_height": null,
            "align_content": null,
            "visibility": null,
            "align_self": null,
            "height": null,
            "min_height": null,
            "padding": null,
            "grid_auto_rows": null,
            "grid_gap": null,
            "max_width": null,
            "order": null,
            "_view_module_version": "1.2.0",
            "grid_template_areas": null,
            "object_position": null,
            "object_fit": null,
            "grid_auto_columns": null,
            "margin": null,
            "display": null,
            "left": null
          }
        },
        "f405b4b8e62c490fae22f7495122a179": {
          "model_module": "@jupyter-widgets/controls",
          "model_name": "LabelModel",
          "state": {
            "_view_name": "LabelView",
            "style": "IPY_MODEL_8ce46892a66e4dc1a90ec227912edc13",
            "_dom_classes": [],
            "description": "",
            "_model_name": "LabelModel",
            "placeholder": "​",
            "_view_module": "@jupyter-widgets/controls",
            "_model_module_version": "1.5.0",
            "value": "Select your bear!",
            "_view_count": null,
            "_view_module_version": "1.5.0",
            "description_tooltip": null,
            "_model_module": "@jupyter-widgets/controls",
            "layout": "IPY_MODEL_a9693e0b38f44cc1a31c418269a900f0"
          }
        },
        "f7a2aace6bb448d2950a25d772050d97": {
          "model_module": "@jupyter-widgets/controls",
          "model_name": "FileUploadModel",
          "state": {
            "_view_name": "FileUploadView",
            "_counter": 1,
            "style": "IPY_MODEL_1520fa68bbf3499da3fb27f7997d4550",
            "_dom_classes": [],
            "description": "Upload",
            "multiple": false,
            "_model_name": "FileUploadModel",
            "data": [
              null
            ],
            "button_style": "",
            "_view_module": "@jupyter-widgets/controls",
            "_model_module_version": "1.5.0",
            "accept": "",
            "_view_count": null,
            "disabled": false,
            "_view_module_version": "1.5.0",
            "error": "",
            "description_tooltip": null,
            "metadata": [
              {
                "name": "bear-sitting-down.png",
                "type": "image/png",
                "size": 425007,
                "lastModified": 1613852300765
              }
            ],
            "_model_module": "@jupyter-widgets/controls",
            "layout": "IPY_MODEL_9675e93b18c74112b2eecda193efcc08",
            "icon": "upload"
          }
        },
        "4fcd9c85c3ea418fb365cc92c512276f": {
          "model_module": "@jupyter-widgets/controls",
          "model_name": "ButtonModel",
          "state": {
            "_view_name": "ButtonView",
            "style": "IPY_MODEL_bf2beb1dba7e4e0cbeb07b9e5dc3fe0b",
            "_dom_classes": [],
            "description": "Classify",
            "_model_name": "ButtonModel",
            "button_style": "",
            "_view_module": "@jupyter-widgets/controls",
            "_model_module_version": "1.5.0",
            "tooltip": "",
            "_view_count": null,
            "disabled": false,
            "_view_module_version": "1.5.0",
            "layout": "IPY_MODEL_50a57ff810984b16b1bc0d4feb5ef87e",
            "_model_module": "@jupyter-widgets/controls",
            "icon": ""
          }
        },
        "3d43367941b9468b8d5d75b7b198adca": {
          "model_module": "@jupyter-widgets/output",
          "model_name": "OutputModel",
          "state": {
            "_view_name": "OutputView",
            "msg_id": "",
            "_dom_classes": [],
            "_model_name": "OutputModel",
            "outputs": [
              {
                "output_type": "display_data",
                "metadata": {
                  "tags": []
                },
                "image/png": "iVBORw0KGgoAAAANSUhEUgAAAIAAAACACAIAAABMXPacAACD2ElEQVR4nGT9V8xtW5Yeho0xZlpppz+dfG5OlVNXd5U6kGIzNElR3TbZJExLth7oB8EPhg0Dhh8EAX42DNmwYcOwDVsPlCgTpkRJpkiCZNPdJJudqruquu6tm0/6z592XGHGMfxw7q0uy/thAwtrr/0wwjfG9805x8Kf++4XEfQ0DtmQ7SqqWwEah7VVVdPOxnHTr7ch57quIPE4eeOMrgzEEn20xlitBYUJFVLrXLOqd2MIISpLxtJc49ini814upqdrKqE4rlIiiVEa6yemQRcspgk2ScmBMEYi488v7W4d7JMKV0Ph9bo/W4KgZ12Xd0sZ4t52448PLu5JMHbp2fO0JjjPsQ+x9oZyQ1yqxU2rX3z4ddfuv/FuuoO+3W/3x12/Xp7/nT78T6sL558GHrfzpyr7VJ1rOB8c324no7nK9S073vvQ710Qhz2UWndHbmM2bBx2vkQQh8kga6cIsepAKFBK+udQY4dqeNaacUxAypkSuNoXY2G4jRyLITKtMo17qtf+Kb2GRJGq40D0qF43rM2hdmnqaQUsgcB67Rubdp75pIKajTkTDiMOZZstAB6TkrhOA5LanPGHFKK6OYVGlNX9uyIKqcE0CkNgFElsEhaUFCDEhIywiUVYQU6lJxDKVCCklIYjK2qpnUrxVornSAiScG0amZ9GPdh2mFsjctZIEunXEwUPUkcRYWx8IPy9unpg66dZ+axPwBmNIH12u+fGeT2eK5rbHRjubrpd/3e55SlcClZSmGUnBIpRRq1QQGpgAyoyScfkiRRQCQkWVJOzjYlY86FECFjGjM1KkaAkmxlwCk0YEgVrQCYooxbHzlnTjp4H6hw1WrURkDtxwiTIkSGXDxjQWFiKlOKU+TMqNkoRKsZOIaSWRRgQUaizCVMsXZOO82MiimkojXV2pRSDj7UtauqSiIXSkQYJBdBEs4i6JTOIAU4AwMWhQJkjTux3VwaKYAaPUStNEvsUz9vmqNuOWgOWCiGcRrHwVfWNdUsSSocCk9xzLv91eXlk3x8JwZ/s71IMc6a4zvwxma/IZdt7UREi9v0/dMnl96HuqqGaYox61ZX2nISYy06NGg6qrQCDUZiwYhGo3G2MCcfpQiHLFP0fcgEjWtbrBzWSqfDuC+kbdVYrbCwEhCtDAIr7WMeh1HPjaW60m0lpZhUanQdo3ARjSwcciRE47QxLs6r4HxBUKAJzdGs8yoqUtYoUIAaCUATAaKrTAgpcHDFkGAGZoaCwjloUdZqDyBJtIIMmQFACwJpZTBJW5WB8rAbc93OqmVKMpRBWShcDpMvXLQiAPi4PAeBkvN4GPe55BCYJZciiFlKVrkUhoyfPP2gxH88a0+7uunHPsYp8fhk8/76ajftplGHyllxcHW93lzvjDVRlZIzKjo+PrWkw5RqZ3NmZbQ2HCgE4FRi8GNxOsbMSUouCoFTmHZDCiEjuFiDB02yqGrtRFcGDRlSwEmMESkFi6qtiyhJNBgt1rGufFzv9wcitZivJITip0nKIcfMSRLU9cwooxSRIoPGgrZtpzsSQSEwTmmjmIvPKSNrVAlyKaw1UVaEbK3RWmurlZAjNE6LEibhPEzJG42IpAxoq4YeCOXYzutU78NUkJViycIswoVz2o/B5yQEICBMPmSQggRaK7LZ51EQChZQWhinyV+vN4c+OgfLZnXn7NXHz/+43+5q00WVxr33FAY37LZ9nDISdshHs9bU9cy1OZWm1l3l9kO/99viizJkKtuPh/HQO6iRFAbMqQCBq13hTCLGOt0d5cqMMKikWIsio1EfNUuFIMCTxClNGcs4TsYa7UsJw0Fx2u/X03Z/cnS8tGY/9BiiNqpVxrNM0R9kFCCHMm/rRBLSuD8cpMiqnifJ3JemdU1Td207+FFElCHOElMxCshprJgpgAIAXYS0saiBFGFUfihFoquUBqNRzWe4nOlWt36YJhWUU07ZzIIZQTDlgkiSMZUiIpxTERYEBQgoAszIDEKIAJrIcpL15kIr7WrXuKMsYMxi0d3Z4lPlSTyFELU1tdWwbObH80XrDFoBtd3ula2b2hRJoIUTT9ugBKVlCIVBRCnTGLags8mF0aGrNQjWTWUaqztLHEMMAqIKBkm2mMN+1ADz5fxsdmqt6+v+ZLbU1hpl9SHsQ/YeU8Q0+X0sXpMQMxFWSmtVFaWIjFZU1TUpHiafUWJMwj1p2G97ucF20Z6dLrDwlCfjDBqlFCmtnLNJZS+JAZwpiJSJibUqmlAgCQeqddO4GSpVzYpIUSCHOPbZ17YJoDKK5+RqUxs7DJPWWoFOIUeOpIFRhKCwYAHIBQGEgUBQNGedJYJKwnJxeb7d3cQ0XF4/68c159RWys1ao1Wu6tu3mq5rb7brYZgq60rJmJKjJigQEsiYp6SMwUx102QEXRllNVN2tjYhhf4gIc+t01oV7q3uOLJkEZQUY1XV4zSdry9TSfOyW3bz2jWcy2kuelk31FS1lVVXh2HUqIxSbduiSVSEAZQiQOnatqu6PvqikIg5Z6goKx7HyWl3tjqKoVjtYmKUIgzIlFImg6jEMlSok+TdYaqt6WqXi588WzGddsftkdMVI2fIiGIVxMhFVOPakMDWs0y55MSilXZdZ52rY4icZbsdc2BlBFC0QkQdEyKgJkZEUlAyoyCyFTACpj/sNpubq4snm+sNiDy8e9J2eiqTUtV8PgOiyDEXQEAoGQE4RcUOterHKflS1Y1ShABV27DTgtoqLeGQw5hDCkNQWciQiEzDQc8RmbUCIiUgqDCmJCw5CwiGHCPnnMre93qfwAbI6Ewzs1rjlGrXVQ2Jn3LOORcFoBGsdVSZCjmUYrUFK5Uulmi77wsLaCkcrdZWlHPuZ3/ml7/1tW9PfviNf/nPfvjjH0YdK1fPXbPbhav9lGYolBvTLtysURaNK1JSCYm9j2MvpSRE0C2ZVbVCY2McFKvFrFW1jZJ8TiEnFPPSvddijDlPm2GrjGgCn7kIIDMCVprAMtuMXGkEUsXq6PvdvILqbGEEz1bHm34bM7Zoow+9P+Qi1jgxklM0TcMlJ06OMXpG0c28yyWnPDljHeowZoaiGYYY/ORDKi1oAEgpeV/sGBpniwJGUIhTDCxiK+NjJAStkAUAGBF1QizFaKNzylMKWOJu0ErbNOyoMCBwKU6bXpi4IKrCweoMqijCJOJL2g6DlDIOsazly++8+e//rf/xN7/6VfD7PB2++vrLf+8f/IO//xv/SJHudLXq5iPFWrnWLjvThJLGknweEmerHREbRZ6hIBuUINkgUUkooBQiFJl8Px2O5idvvP7aUbf68tvfIKLKmefXN3/77//tD5594BpjjZKEkDUWckrQFq1LzlMuMU4ljqltZm0jJDDl6ENRuurHAUsKMSQG1zlCDSikCRhSLgCRgAITQ6NMRFWM0TGPUzxQLA6JM0tmKKAQrNGppJDSeJiIlK6U1qSI4mGKLIpIWwQoSilCCD4KFw1pmDhhAIvZIAiZzMUPB98PDNC1NSIwMqTIB1KuNrOKGuX9pD1pFgHIMYUcUeG8af/Gr//3v/Otb918+u6j974fYjy6/eBX/tSf+fHjT3/46MdtO7s7mwfjlSJB3E9D5qBJj9EX5CkFo9kYV0Rp0kjcF1/iULmKECsw4Hnw/kuvvf03/+xfmbdHqLBpa07eVs3br73x6PmT9/7eY+NWqKM2WZNlRsmgM0xhG0omgDL53WEwTTWzzRTTxKNtHDD0h75tdG1diSlLFi4kBVgToqBkLtYCIyFS4YJEOWXOyRjyU0hTgcyWSaQoAE1ojXFYYuZhisumrWrjM4NVkEv2SRPmMU4wmLbSWisi3ZW8sGYEUEgGrCWVEULhMpuz09aa7ENKEYRqZTQomxUUI0ToOI9DzlkASBEC/OU/9+f/zM//4uWn7z5993s/+qPv62a23Q1n/firP/9Ls9/v1v3WF88GRo5YeEqjCGeSUtg4DShQpKhyfdhpUvPGRsykCEBYyabf9eswq7tf+4VfPpxffHT1wzsPHyDKtLlYnBzPTu597c23v/uNPw/oznd/OMRrAPL7KRRVGwiFhXBMXiBVy7bWjiNMUxx9KB0gobXaGMPCWFiYFWERUcyiMecCpIDBOjFukBiJKMYcDlGL2Iw+5JIYSJQGTSqUnECaRc0iOaXkw0QwhlhpUxmgkLUmkBL6KYuYxiirddt01rlaWEBEch98iCmHpLTWhLZSbTVPY0qpCIq2OkzlcLNDS6ABsdSNnaLyU3jz5dd+/df+Gkzb/dWTi8cfXT6/qmYpRZ5CaWv7rbe/8P/+nd8eg593CywOoBjGEHNhRgvOVhxYsBij78y1JuOcJq2KxCDZlxSm8ODk9N/8xndtHH77D35XGdd7D0D75x+9/tarMcnJ3Ve+9Nobv/ve96a4y5mp5GmzF7GpqgBJmcJSlHGdazHBetillHMqGJNpVTU3wlymwlEi5MY6JC5ckkjKjFIYkFTRRK5VnODm+QbGMqtsEYzCGYsjVVdmsVhoR7GfMBRDZAqUG5+CMk4bBEYoCglU5JBYHDMCCogGrfoYpJScebPbb/xAGrVCy8ZCHqIXAQlFCoecTT22zdGQMI+DqbFa1MWCa3SL7s3XXr9/dnT5yY/8Yf300bObdf/qyRkZc3N5dVPCV3/uO3/9z/+V3f563jiltSY+Wy0UUe/DervZ7PqSRSvl4/Tw7p1F11R1LQghjNvx8KNPPpy59i/8/J/lGN///u9v1uvJM1Vb46oPf/ThtL381i+5anF6NKOL7R/vtjdOteEwTpsglMM0gYKmqxgxpRj2EUEVYGotcCZhxTTlbAlRkzYkxfiJFWIojATCcjhMZExjGxEioL4/pJgqq7PimDMiOGvaqqq7yi4rBoGc/MHXlTWVLqFQyZWqgQsXyJEFmKwylXFNTQTAos9vrjUSoyihFKIuQgDGamdNFh4OQQqXzIqIFPqpJ6WrtouRgt9W2Z0sVtC2Bt3Dk7u+3/l+N/X9MPjdGJ88u1H2oLUe+/7s00+++LMP33xwh8JmvmyNMaQMKQ1SON+Pfsop2KoupWhNMSREpatK61tK6+9+4aslhefPnz1+9PzRhx89e3Z5c4hNN58vumo2++jjZ6+8/qk9frV1jksZDmOUDIGZRBmwDpXVRDTsp+gLAtVdDUaZxlrmEqZSWJLCymaVdWXTCDlHAWYljbPCUkIuQpAqnqqiAxaomhqZI2dlVF1ZpZVrqnrZZA1pF+IQM/IkRRtrSSlNTOJjRgYC0KAZVFKACphZWPT60AOIs9pZSxolCCAJqiionIWcgLFunFFUV84Zo7Srq7qujohPrcLaWkEcOARJKWUuZbfe5JRZ5PxyY53p2rpyru/7f/3P//msrV6627386kvd0VkBKFNfSmEuLIqo2u37FL3kXDUdaqckIRWlLSljbNcsSipPL55fG6OPVo4FD8OwvbpaKWawOfN8vjxub31w+ASsQi3iQGtducqhHmPKsZQshOJHn1NpqSOtghcN0tVVTCX47KpauUSWKGEpqbAgkXEWUHPiKQyRJtaotOboU+ZKkTIm+BhNWjZ29D4XgSKVVTHnYfJEqFgb5ihZa101zoJRSqVGGNinzAhaISlrbG1sU5FNSmtF1C26xKycud0uOYtr6nnTOKNJUSk5+OCj70PY9H1KqW3qbPLi9BiUBdTCIiU/vVhfHeI33nn4yoPT9ebw+NH5rTu3X3/p5O7dE61pGieRoRQmAi6QSlKmItMSY4xDSsUZTJlz8tpkbW0p2tbdN7/zc6TUP/kH/yhN6XK9//Dxcz+MP/PmbVEVohrHMfi8mHWFRIAtklKaowzTtEsh5AKCnFP0TIr8YdTWIGDOJZs0xjANUZFWhpUyZDD3JYSsUNfzlhCKH1MWxkzggAQJNSBlSZxzTCabtJ04ZrSaDRpCA0iEVdWkXELKtlbaqHGKUfLiqCPEYQxSCiLqNx486Lq5KBQpyJkAubBWSphL4SwCDlent1m53eZZobL3/e5mOxwmYQghGquGNGoinY2yFbk5m/b0/r0vRP1f/9YPHl2sv/Gll19+cHK1Gb/4xVfeeuU0J+8nUyAzKmsdIJVScpHMCZUqCVmoH6acGbVBFEbMIDlFEbTOfvWbX1vM6n/0j37zg+fvhZQBKetKbEeknl49O18/FYLMjIicpMTsfcwxJQ2AgCyoQGsylbO2ZiwsJMK+RCBul621FiSKSGawtgpTGCdvK6OMysygUYlCIpHMmUsuXlhASKkSy+Fi71DrRV00llwMkgCUUuLkMxQwrmmqGGJIaTcMlI2zuiQuPuq2az2YKalStsp6LqxRlX0etkNmHoLvZm2zOq4X7ZQyQ+isreerHl0WSSXHkoJkBjm/PD8/f3a0OlbtsZ6Pb79Rf/Lk+uPn63/6r/74l3/xaz/3c1975f48Ry9kEYkIEXUuJQ5jLoxkcg5obCns+wBcQsjOGtdUIhlKBhFtq2notaZ7L738q7/Wnt05ff785tBPJUUW5f30weMPlBVVdD3icPB97wHIaMUg1hgjwCCiwWhFymptQ56YwbpaVUixzLpjZNofLgpkzZpZuBRJRdcNoipl0mTRVFqV0IepDzHn2qq6skVB72OaJlRWZcAGiwigSCkJYsyp5CIopamq2nqJ0SeVmBX6HErO+smwD5KBOmvJmMI6aTZMJRDX1pExscTLy/PbXE6a2ZBRqIiVtm0tKgboS4g5A8DV1cVv/NZv/sov/vyt27drqy8/ef8LL52WlA5jPDm79epLJ3E6GNcqWxOpEFNMkUUErQiJiK6aHCMBaOuAWRlybV1VlrSKsTDzOHoAQRBNU7eYffc73/ydf/U7m8vsbDNzOCZ/vrtEotrW/dCnmIWFtIACKYCI2ijWIoQggAikRaMupSgiY3ViCWngCDHGIjlLZhYhIKNVZckqHbUiB6QkhjCFlGPlbFdVCqnHmGKiBIw89RMrJYoLAAsYQOM0sFCB4IMQ5cQpJFDFKJVQVGt1g0S6CCbrDKEuzJSlQInIBLmt6woMcnl+cV5Zs1qtGMsBRk9pjAGzsCZmzpkV4A/effftV1+1XKaQwdZ37x2d3D7ybL721bdyGIAss3CKwkzKIEJOmQi1cT7kkkZrTU65skRkAKlqOpF82I+FQRsNSDlFBCiQhUs3m33hq1/5F//wH7btrJovv3/5+OnFs2Hvh90gUyYCOzPACEAawIBigcTFkBEEwWIMFUBnjSAotkx5Coc0ikLIYxYGN7fKOTIEKAiq6864lGnapxiRsK7srG0RcDeNqMgZo0JCkSJFWBGhIlSEISYipZxGlP2+B21UxpQziCqEulLWaZ33IzmnWrRoIRJmMtZUlYUAtbJGGwAwWo3B7w69kHKNa+q2aeuUUprSGLxWlBBASsx50/evnR7vrp4zy8tvvB6n4f7LD7EMsUhVG2UrBIh+ijFmUcFHwYyRR1/GMRhnFGFrOLGqK7cOg0/ioyARCFeNQy7EUWkNzKjj8fHRN3/hF/t9Xx+frT/5iBODLyahGOUlcURFhEqRACLamcYMecrNbCbExhlGRRoiZ1IaWQESSclBSkbOuUHt6krVWphLEUWV5B5RALF2xhrFAFPJqRQNaLUpklgEEYW0a4xWoFG4hJQLWmKBcfRaZ2tcASAGYCZROWSdUlEOwECmAsKskAmL5L2fkuKuNcaprBAzcuA8pbZqNFkwAhqNUkrrQz+mOGlSU5z+6b/6reErX//yK6/sLp6m/vrhq6+u5mYah6auBQRAYvD9fhe8jwVTIVXPp2lKKQHZzWEPJcLCbYd8cnJGEg9T8T5XTbXeHparxaKzHPYKsZnPeSja2LPbp4vj02Dr/TQmFjBklpVgGa9jGhNUlXB2Vi/m1WzVXPV9CQMoRg0ZpbJzBLBYmEBXedHqDQ8etG2r6TAqqpSiLKkwIymrI3BOnmMqbWO0NYfBFxBtdfQJg1gARCAiAAGtyKjogybFggKCAFYbKcKUiUhZQsIU8nAIWiuyFsCw5EJJtDZccEo5KwoICLFTtalsR7p1TSp5nKZcSjaQxMfkw5C220PMCQW0tQHCo/PHX3pwWsGoq6quNCdfVRaEubAfhugH78M0pX6Y6naetpvNpu+nbIw2VeUqe7PZDyFJiYvFSphL6J9dX+2GNPVDOJ61OotwQdU2jlkQuKqaqls0tlVZta5SlXHWNrq5hrUCIqdWx7O2qfoYU2IwunA2qBCZGQgRCawWY43vyxSycY0yGpi0a0FlpyjwhMLRb7PPirByCrXymUvhwkyKCnMZgwNLRKgASmEfWNW+ZCVSRCSxq0zVtePgpbBGFEBmyVIKi25qBwzlEFNJY/LUus7VlvRqNmtspRCdtVrrWGKKyWmDVTNO/e5qtx8PoEUAfMoaAQqnAMaad157dTVvEh47V1HpU4jGVbaupUQ/DH6aSsF+8LZqcsqffHS59fj08mCNvPHyma1PCzUMU2Y1jL6qq34YvvfDR0X02fEipXx81FRGlPckqZ7NS1E07Vx7fLJcVUqMcalIpSqzNBZ1LSQk3OrIIkLzpo02a2u7boYKE0OJo8akNE0Rrjf+0E9Ng5VUAIrIEmpDEnPMQUpMIFxppcgGLiUVRRgyK6WMVlzAONJKoRJlSGVJo0cEW9c1S8jRGt1VVWaOKRFSAWHhEouIaKUUilRgOmtnxrEj45xRGgAIcZhGlsKgQSlAKsAFfdIMOUMsObEIAAogEdGtW2e/9M2fe+f+Gfh9yWU/XraWx2Gq4QUnGqMf/ehjZinSH8ary92HT3Z/8P7jxtb3zo6vr3e3Hjw4vnXU9wdLyjaz6IfJc8jm8mbz3ocff+2d10jdWy6cjTGyKGOM1jEMVRoenJ2Y1hbJEvkwHZSxtnWaiYzKGhwDVIQIkYqubFO3SWJJwZPkACHJ7mrwu2iNlZK5eAbiVLQyMYxxYgRjHVLKmkRrGycPSAKstCZBpUzVVAo0IAhnQUJEmbJtVd1YLUCjMCEp1dQ2l8zAACCpQGZi0BpFRCpDxhiiShmjjdGVGWKYom9sXVkj2nkp6JRWQg6xairWolTJKYSYc0YRY+2v/tk//4tffZP9IXhCbRstqb+0riIoJWdbNziFzJwyh8QpS8lsrTs5OVk03bytF7OZYm6cVtIJaeWawtCtbp+e8OX1ja1mRex+s7NmXmGyjdGEwiWGOG2vvvbaax+8861//Dv/XEAyZonTsuliTpS54Is1Y0NAoDGkqYSJx5ymPIqMITrnckjWVpp09IcUoijM0RMgAGitmDNHr4m1MiyARCw5FeZYsqAypqobnUopiRUrQlEovkgiiYU1scGU0xixCEefkBBretFSg4A2rg1+yLkgibDinHXwVhulTaVsAc4+vtgFpgS0sbatSVtlzBjCfrMhUjkGlvLdn/n2z37xDUg+hJiBYpiU5pgKQUJEV7fJT4DYdAsIJUCKvV8sZ4omBVxE3T5rX3rlvjE6D7vK1VFVOWci1S3mt07325uTImU5twAIDKRNSZFzAHDCHIadnY9/6uvf/t57f/Teow9N5SptUkkphJLZLCpBLlwcWvL0/On1dJgUkKtbrV3JUUghonE1FCZSmRIwpJRRkdZWUyk5MoKyigEOwSOgUiiAMRQ0WglwzAhYuBSSQoxG0KD3MbO4ymZkEcmSMjMLcC6akSyiIiDWm90uhqlu6ioRGk3WJIWRi2ERVFJKCJEwa2MaRbUyJBoYQammsth0OTEWbGfNr/ybv7io1W4TYowx+uIPWGtTueCjAjQKY6aqmYEPFp0KQ900xBimsGyVsfb1V28vzlY5FWuVqVsSnCKAyHIx5we3d+vrw3ZdaWnaBpC01loBlwIiSBSj9+PheH76y//Gn3o+XqbE2pgphe3Yg8eVqmxLWeKmHyyYMsYcChuorRUQEeDIEkFsAWalSGkSUSLAJafsS5gIxHSKCXIoU4iQ2GqFmrRRShMy5xDQGEUExAJAFjErSDnGBAioCBTEkIVFK1UYCchYBVBAFQ0KGKTPAU3VIWmlWJOIBMmGtNJKG0oFmbStWp+z7IeqrY1Ss6Y1BVLKxuovvPX2ay8/GPdXfhpiv97tDiJl3i0tWWDo5nNSqqAKMYaYq26lJ9nt1lYr11Rz1Keny+OTpTZKnFNKG2ctqqqzh/0Yc1kdLe/ev3WlcLZoSKG2TmmnNEkppTAiMqoURhXDg+Oz20dHN7shpLLfD/4Q85DGPt57+TYr2O8O7MEYK0oAARDi6KdhIEREzHEEEGBGUQKaS54Oa8CoLFkklTGk8mLnS4k5FakbZ1tTCqgsBQURkEgsoSKlFZAQEiJAEeGCoJAUoiAXBNKsKrJsxVROV42rNAUpyupiVQgxT+IaR1YXKVmSsqBYSJFuZ/12PfUHg1mTsPfTOByGIZYy7xwVv372eAoRJSNiVTc5+nG/08Yp7XwsGS1qszhtvI/CxTnNDE3XVjWvVrNuMWPQRMpaLdoFVi82BGIu2pjlajHubgxxAW00Ka2V1ZoASiKilEsJPafppdt3X7n9+s3mh2GaSs5QRASOTo60rdebwR8yCnXzRpiZ2U/7NITk4wB9M5+HOKYcDBqjKgJiKXEcRXFdWyEYRy5ZqsrWFRSFLKwNMpISFF+0JQEQAOMcGlWyiCK0Cn0GKKIwJXbaVMZCQ6ARCucoSGiU0yBorVO5hJhHVYQAC5QpI2BwOaqkQSwZjuPUr3Oa2I/7myHoXDFVWi1nM0B6/ZWHbW3arpnGfppGayj0m+JRSQkxirJVXef9QAQlxTCNlVNWd5kNiHBOVW1dVRcWFEii+8NUhBApp6QJhFQ7n7umMs46orbWcTporJUzgJAL5xiFc5TrI1194ZV3/ujDD42JavIR5OzeveNbx6TUMd/aX+1JE2mjjJPsx76HIuAwxFRlBCBmLrpoBGXRLZSuakQxlUpSMogT2zUVEJRYSoqkiDAjUoi+IDFIQbTOFeCcklGaUViYELVWCkRAmMAYbWZGksSQckk5Zb2fpkaZ2hqTAQqqeYMIefKFCihCReJzKEEFiD6C1iyiIneNyyXd9HtIMOtmd27fmg6bIRRb18YAJ88JRQBJa+MQZRp6KUlpPY77YX+wdevqekoMoiMXVzdKqewPF5P+o092u+2+CC1Xi/vHutPFWtvM5u3yxBrVOChhMJVGRSwsVMVx5OSFWoxxGnZni5OHt7647w7vTb87P+q+8dVfOjk6GXz/Rz/6HWBBJeOwMdY64+LkySllNTDoFrInrc181hhVibCuqJk3IGgVZY4oRSVUTKiUKMioXKNTyuyhSPIogSEKVyQVmZgKSlGAaBRqBQodqko5Yw0DcBJnnEUbJq8CaanNmAoKOSIALMLUOFMpUZHIuAgMPpWgNRFpUVaaAilR0UZTtHHTb2eztmttiT0hMFHMkv2kqAQfJsHFXIVxQNJEFEO4ubpG0kahcKpckwsqsN1ikaO/2k3/5W9+8tF7H7OxafK6XX7h7fvv3HWnJ0dtXR8dH6c4aozMMcfsrFK2KiUDqRgm9qE5rkoK89ntk+MHe/+j2fykbRe3T++end69vL6AgLWtEodhu2tXjSYjSXRlq6YFxW2jrWVmU7VOEeWccypkyBirauu0FUlxPZYstdWsIUrOCo2xGbKulE2WslABOHjlbIuKRTRh0QqQREAjUSqZQTQgIKgCiDGkErOer053NxdTToXIFhIvSCi14swCBQOAQtc1TtdlDFMIU5w0M4YCQlppZ923v/H1l+7f3p9/ksOYciJJu+0+p9T3vlvMjo/tNByqbsEsu+1uGsblyUlJYQpltqokR2s1iIyH3cfPDv/qN/9Fw7G9df/i8ftdXX9s88y91lZbXTUEXGkO42gUKJQcQ1XZlIoIIykSLjkg4qJbvPXGN/bjEEJwrs3MPkTvp0N/UyCWEgtz9DmWnHM2pRBoED4cJii86DqDOoRExiznNaAIgBHOXopApxsxKFYI0CkTE4sIGGmOGuV02kfIPJV00x+MVkZrZSiRMGcskDJMLAJYLHVaY+bCxMAsrIEFclaCSJQLmylj8SUCVVpbBZRUZZVyGhwkcYWzc5kTIQFLY6xZru6enSrJgAikFifLsLtuZ/P+MNQNEErKBSknP8VUhr6v2wa4hBykQBr3YUrUNH4cw+STH99+7XUocT0M89XR/ZPjwookTUPU1V6EJY2WOI4jaCzs6tIwy7S91MYWViV6ACaitp3dPnq4P6xZ4np79ejp++cXH12tH4EIkLjOKk0+JNBKiHIQrWyOiQHHSlqfYMwTxOi00gYNGik5ZAZGa0xjRRECGKuJpBSJhU2trSWpKB9C3sQ05aTKbE4IyEpQgAB8TkhYGSuJIaAIFSlKk1Ja0/4wJ6tJoUIuAiLAolgbVg4MVhadAyLNKokoo47bJRROMcWUEWE1ax/ev5+jjzErKMOht8p0sy6EiTM4g4fNTdPNp2Eax7HpVowUow8+dV019mvAquRESgngssLTu3cOu0mFp6+++paxFUl/VE0lGy5ZGZcjTIcrlFLEOFtP02i0yqX4NKXEs1U1+akO++urZ48u3juM5wql3198+uiDw36bM392iEEYREouiEaBk6yEdNXNtBHUyYecp7Lf9ymX+bxrlpYVlshaUx88D7GqXNPWjKCN0gY0qhRT1Vl3pIidPjf5KfhDgMgFETQYo0hRggJAzjkNCQEM6W5Vj9EDsAYsgHDwY+FcOVfXtThVDA55dGOY2VYSMwpXlWua3u8mGrQoTjmlnITP7t1/5aUHYdoBonUaMwuXod9vbzbL1TznHFjqjhVK3dTaUN9PSMQl5YickjKArErxyqhlA3dmYbMOZ7deYg7D9skXX10pZtt0tnJKgjWwCYFTWpx0IoxSUggCELwn0loRAVAJlVzup483+/PxZi8AJUdU1HSNtqSskszT4ImUsVaYmbKuyTSScwpT4EkgCZdsCChnLBZJgFlQpSx+iuMhKkWAEFXWRlVGiRLBxAxKm/ZIxSICkCf23pMh6KwCIa0IiBDBmphTCtMR0KyxbWX19bRVCRCQFEXOlVHWNZnEGBji6H22rC1YFimkM3AWTIpZs0ZlMpwdH7eVyfsy7A+majD6UsBac3L7lKBc73tjzfXlerGa1bVJYYBSpomVopxLSkkZl/1u2temWqKydaWQfYxq2F3cXrCVBIps3dTdLO2HOO2YWZQBYFtV2R8A0Q+jtSpkubm+uTc/ynG6t5pT9v16PfWeHDGIqwwpzKUws1aERPXC1k1dQpEc84RcaJq834+1cZVWqnacShiz6sBaBViCD8xKm7pwSDFVinKBkEokUEh+47lwd9IpY1xXNbMYKakJIJVx75VVxmlmHsU7Y5AEqYQpglaEqJmwqFwZ29bd6L1PMSLatrGqYl1CTH1ODqUDZ5u6xa4QJhmHsg4+cS5GK+CkFGhIqWhTNTLud5vtNPjFyeLoeOnHoR8mO6o4HQB0Llq7xlkax8k5hyjG1v1haFU75QKmOjmdb/ei5itlw/Uu9OF5tzjLKWnC3XBQhEKGBcI0ToettjazbK523WIFOYbhkLtu0a7SNoTBq0YzCjFBFi7MwvJCwldERDmltl3UdumnIYwjD9GJWtiq0tRL2QwjaM2YpYjSFA5RtGq7ShJXgBWZiVPMmXOBInoswiVMwRnnapvnNQiQVaEPKRb0qRRBrZkKa0IFriLNOA1hil4vumWBqAsa7dqZgyzjFIJiNPACnZPKET1AdWt+v1ONtvZmeKxz8WXPCu/evk1ECXW7PLp89lyoA6XrpprGaX+zbbrWj5MfJknBaFUKzFdHztGw32vtmAsXyoBxGlO+iCHfOjpqK3V1s7/aLRQ1y6qpm9oYe3j+UeOQczHWkbGC0G9voh+G662r6tliRgpWpyeucjmXo/ni6HhVHon4lGJWqBAABBgFCEmDpkora1R97+ytrm22h6vzx+9VCGQ1CU+l7H1ghFlnSUks0aItmetGtzOTJ6uJFBFlUIyKyOckUJQloMyAhNpqM+KYcqbKVBoklzSlWuu2talkn4thJ0pKKrmwnmHFyqAl18ynFGKIXe0G8SXnyrVCFHGEJON4uNxeyuJua6yffAmpcKlN/fDuLYWy74cYEnB+9tEHrGzTzEu+8ZEXR+owxpjYGD35Yo1CnnZXY8rYzM3UR+sKRVFKp3goMSrJnW2hKiqPk9811Wy1Oknh2kLYbbyITD7CsK9qG6YelXbWNDWayqUCKWfSWhtntH37zTf/5R//XjhEyCAkAJISA4ByGo0y2lqymhTkgNnxGE0hrU3EPKYpI2YAY7QWxEJCEmNAgVabCiAbwyUxS6MqJWUXD3kIMBYRJjK8n0oWg0ajBkm5sBQhAkQMU1QGwAAqCbGA5ILSzZY6lkSRXVtb51IMqWTbNAg6lSSCwXsUaNzCAO32l4XjMZ/2ud/1W2E5O75zslqW6FPwfhqaxcJtrp6en7sH94yzs6PmsD1cXx1efeWs5DAE6Trt+33OLGTGg4hoFnG1SSkSSsnlsL6J8SIl9lOy1qrg024gU2HbSEkAOQefwpAmYFSb3WGzD6fHXTuX5aorLGEaq26ZU3jj4WuzesZ+rxSLMCMYo0phZcEZZUTY+4mHR/3WqkYAuEiWlEFEhJVyjWmNNqQSQilAqVRaaUOUWQMKkLAY60oKeR38pjeoUBNOvN/2RcBYAwiuMRhzGqUENloLi++TGLSNKZlDiav5au4aHWNCYJ5I9KGkLJkxlW6+GKZDH3ofpqbqVs3teXeECLF4hdjWMz6ChTt77cGd+azmKSptjLEh+O7o9A6L7w/d0ZEzlMf9vVuzZ0+uDlM+Pp5dbyaUAiwnR6gpp5JRVMnBWseg45SMNg4xx7EyyFJKjoittraUIpymwwCSxohWq5RzEr3e72uL9x/eUYRNpRVhzqXf3nz59be/8eY3/sE/+cekUUBIg3JoQBlRtrAfxjAm25qiAEpW1sQQpimQVaQsAilV6sYNk0cijcSMLDLFwsCkxWhklj5NYfD7zeCH0DQOCmPARhvWKkyhiDSLyhodiIbtCKiswiKSmEsQdHI8P5rVXYiDnnzmEquGWjufzReb68cPXv7yg5e/8uz5B0/P3w8lV1VndF0388Y6RZg44Sjz1dmqvfXOG68662IgpZVt2sN2vd9uXVvvdxcFGBwyQtu5m+v9ajW7GcowxNNVg5xpKItOt40LKZTIpnWbTR9DdssZB2laN05Ra113M+UqpcgfNlj8oZ+M1RoKmcq66ny7uX1rOW+VsaoIAhQg4pxLSpzCaw9fIRZMDMA5CLFWSDlmVCBSSAloMUZTEYDEWGIuUMS4SoN0jUXG5HPd1YUwFygGIOYC2gCChhB9npKMpTDHVHQqkoEQrbOoFToRBbogM9eV4cbqQtooFrEiYmB1fHSyOL64fjb6u7pdnt08f9TZdjG7jUBE6uT43nJxNoz7tls23Xy3W+eUSvTMBQQNaYO2cQsEms3mCMKliHDJqZ51YTooTa7SKYyHnT9s+25WzU9WmmDfH167v5p8QmV/5/vnX37z7KXaHXbT6ZkucagtlJh2N1fztiZrYkhhGk7unJFzXAoqzFGqprrZjgrZKCg5OGuaxtY1jId9VdecEqdY1Ji1iePhK2+/c/fu7SfPn9bWWtCKaAy+JNZGCEgbIERiCSljpRIIaEgho0Bjq0rR7vpw8MF1HZSMCjQisZQQJAijhHFMPinWShEZEmbXVd2iFRFJxRjNGg9jkMKzZeUaC1mUUlIEuTRVc+fo9na/Gw6+qWf65PjEGdTGTsN1SZH9+OGP/vXQDykNX/nmL9176a3DsP/0k3efPP7R9eZ5Lskql1PICRqb/HRgnic/cs7IEbh0Xb3f3PjhMJvXu+1hdTRLOd/05f5pdffWPAtpTcdH3fJ8e70ZTk8XRBxCPJo1lRMFmBJVjUWySpNwVVWVabup32mtRlb9VJQxxmpr9OVuvHO2mLVaI1SW265WzuZph0ghsbbm9tnLX/vyV25uri1qo3RImUSpRqFT7F9sJhAQKZkpEzDUXVW1IBMiYRpTnEJdGUsESADih6ASMDADZpQQotamMIeU0SCicpUjp1+wU2GRDBAZCEoSYCSlGKFIqZv2qFtt99vddLhzdm85O9HtfPnaW98sOT978uOcrhZHt6pmZrXS2EQ/5RCJwWrddksivT9snt98igwj96Haj+PrLDOAnOM07tc+hBz6NO6bSitjj45n+23/0aebx5dDa2/PO/PJx9dZSKOcLquPn+3dxxdvvrL6+JN1VTdNJU1rQJTrZiUDgyWiajYbY4mMm0M89MEZzEPWdUUotdWH7X5mzOLOvTj2JZe4WwOqAqpg2jAvj0//5q/+tY8+/PDx40/7mKcpNLWxtSFjqIBIVIiliCAzMwIYZ11limWSzJyOlwtXOS7gixQBBi4lFRSlEIkYIHIOIY4xao1MGKQYLrlwyKUUZuRciiETQy7M2ioo0jXd6eL4crOe8vDS/Vca3WzGrd7vbx4+fKeeHW/WF6UU69rbD1/+1s/8mZur5ymMU7+7Xp9P/e6le28yw83Ncz/uwtiT0aH0w7gtcVXCQAhIQlBQQJTRFrbXNzGVaZpCTF9568xZeny+9xlWnZIcNZTaYAnpsA8x5U8+ubh/b26JUVcWUTkNokUYjT3/5BOR/PTZVT9MDaXTo1lO+dD7W8cLa6lypAgF4Ic/+NhAOj5ZzE+hWtbWOb+/Obv39he/8MVHjz/1KbKSYpkR1AsyQAqyxFgis7ZsUVFGI2QqcaiNrkuWFGICyUrQKhWIBaylVAoUEJCcc8oFAQ2aF4d5c4gpluATc0GEUkrKmUfUhupm0bVda6qr7c3gx9cevOxM88nFp9hpPcXpg/d/7+TkYdu0UvJ2dzFrv6KVaWeLTZz6fjPrZlqbrl1aW283F7O6s0h97IcwFEkAXHICRcZa4RKn3dQfHj26mmI5v+63Q7l/tnzt1Tv9Zv3Rx8N6gLPj2VhyQXWzHV+5d0sj3zlpPnm6v95M3/jSGcRw/umnzeokJiBCXXcQ+3EY/WEfxtgtayCqrZrNV4bk6Gix6/37HzyRnNfrvVM8X7SkFJSsjZ6m0Ey7737rZ3/zt//FFC6t0kBYcuEswoCEOeXMRWtdGUdETulGm1QgxBSzAGHiGFNRzoJIZrFG2dqUEP0QEVEQtdar1Vwx9GFMqexjREQFCMyMUgRyKSLQVbOzxalS9PzqwlXVGw/fyim+99F76/3m4b2Hel63Z8f3a9cY48J4aJ29On/8A/xXX/rKt+/f+9Zh6F9/eKa1fr6ePvz44+3Nc006a9SMPMVh3LMQahM2N+N4GLaX18+vUvCYw/ffvf7x88PX37wDkL/3/U+Wq9lH1/54Vm3WfT+FW6v6a2/f8bEcLXSI5aNn++NFk0IWxOEQ98MFutpakx4/NRrD5C0xWJjNalJWG5N8OL69UsZcPX9y/vS5D8VUdoiormO1DCb3ZLbm7G4K/uHtu9/8+rf+m3/yD40QCLAvIkUUIUNOzAxKEQs0rZu5SgGEHMfR90NYzDtbKS65+IgMiMgoMbNWWunCDBrFWmOVzVMwpFOJAILMAAQgwiyIitSinZ8cHxVM/TTM58vbR3cur69//PH7MQURCbHo1eL06OhOzHHo90ia7CxyXh3dOjs7mzfu+LjrGjOvHSr90WMUzlJyEZVKam2NpeQiuprZJnnvh6kwmnEa9l6++ubZn/rmvfXWr7fT9549//B6yqj+yndef+lW7Ydpinz3/sl77z3b78OPH20t4ayxu12cLWpTVc8eraNNR4tmeny16KxGWXSV1jSf108uDkdH7axS692QNuPV+vDpRc+Ap0fWVPXNdjo7jPcWc00SpjHFuLiz/O63v/u7P/i9508vKFMKyRIopyMCKyAERDGaamdEwTB5LsJFUsjD4HXVGaNTLrkIIBhEJUBWp0pKKMIML47BiICACLvKlFRyKYiQM2trTxbHTlXbflOTPVvcJbYffPzR4/MnhYsxCjMoRv3gpXfIVB+/9+PxsM1x6MPuO6/924vlrXff/3C1XHzl9Qf7KW2G1Fh15/adj1dnm83T3eY8KgaK927drS0ddjGEsN/udptxGOP339/85g+e3T2bnczrFPNh8Jc7P0zJWTiMIXBnmqbuIMZ0fNK1lTpZ+ltHjSCGLJunu+VyJmi+/+Nn+376mTdvZ+/btrLWGKObtj47o8P65s7Jvfc+Xf/wR4+6tuoj7g/jrG1eeWnVVrqu65vNuOvT6rhU3XGb+etf/Pq3vvqt//STv0uJUIAJLKBd1sZoKsVWymgnAGOIYQiKsQC4xqVU/JRyLiVLYYUsClTbVEmByiVLyiwA7BQKl5iiaNCKgPFFf2Wq6nh2bJS5WF8oh/du3y1B3v/03aub61yYDFmtK62VQr1ZXxQWP26H/mY4XFXzJRC6uhnWl/v9jvkBCH789PrOySLFXAqHFCRHVYQafXp2lxRKiYg4Pzmtu1aY7949vXUy+8GHFz/8+ObR1T4xK1SL2h7X9nvvPtsffNu6r7xz149hf4gE5v694xjC6PMwZWNUTGV9mB5dbM+vthr4F75yT0PhDKz1brO/c/9OZ2mMXASv1v27j26utv2Dk9nRsvv0+e6Tx1cll9Nl+0s//7WzB8sCKkx9t7r1a3/hV7/3wz98/90PCQg16s52XW0QuRTjTCk8TtMQkuS0cHVTN5Jld7XvD5PSWpGGogUhWwXOcMmEyCRCAJk1Qts1VkyfpyRSUoohz7vZ8dHJNPlPL57O592r9x7kMT0+f9QPvdEKAKvKHbcrASIyen3zPMT+5vkjH2I7q7/ypZ8/O3mQOR0dnQ7DZj1MxuipP5wXvrg+X28uFbmqO4ISvvO1b798/yGPT5BQERJIDNP26nq99a6qbx8tLtb+5dPZ9W7c+5RyDjG9en8BKUyHNPTBSFotqv1+nHw6XrZCer+f2sr4mOvKQop3ZpUDvjhfH79+1s5dVemqqUhyu1q+9/HVb/7eB1eHACX/wpfvo3b/4gdPbzaH2qhX75986Yuvnd1/SbdLRhNCNtP48M6Db3/920+fnadDcJWrFnUxSIhAihFzFi5YV44NFRFlVMlJa/IhK+0AUBlBJEAqLMZoqcWXDJmFQADbeTuwp30gRFPjYrk6Xp4O07D3+9u3b9+9fTf48fnVpc9x1s2MsdpaABn7abvvb+8Hvdk95RJiGEOIZLmdLY+P7/b7TeXaWbecVcYa2w/7H/zRb+WSmINYLVwtFvOvfelLleGJBZE4DsP6cn15430qMb37/vk24isPzt64O4spff/Dyw+ebDXCB892B59ev7f8/rtP336wuHW22K4PV9t+NXPJx8bgonPKF9yE7755Ujn74PaysrBYdQmUa1tVN9e78OGjZxfr4Xp9OG7NwztnuzF/+uxmnMLZsvnu19946cGt1ekpkZIUhZlLDn6aVc2/86t/8/HTJ7/3O3/AADFmQyCIBlQpKFJ1tdO1HIbDNE1aEFGqxgEpFlDIRMwshApIdG1EgUsm+0xC2mhG2R4OKZfjk/mqW1qqxzhlDK+9/tqiWRym/fX+WtfVSdOByBTDfugnP04++MmH4DXHmFXJwMB5mob33/+9GEvbdW+8/c07d243lfUJUs6PP/wjQlDOxbAvUm6d3js9Pi45lZyi99uL80c//viPfnT++HqaskyxPLk5LOaz5zf9ojUPzlZtVdWWfvDhBefywZMt3sWnThurD2NcLdoUMyEeH7e2NjNrluvh9XfuMiIhLY/nU4QPP73KMITMHz9dBx8Nwcu35jfb6YNnu+3ed4195bW7y0VnjG67ylnNnHMMHKeSqxjjMPTL+eLf/+/9rf8L/T/+4L3vm4pi8D7lumo0Qs6JLGHhMQXU5F40rIrBYU4lpUIGXaNto18ssXPhNAXmMu9mZ4vV+fZSKWibWdfMlXHbcEAFx8e3Kt1crW+Y86zt/OTz5L0PV/tdzFkhEuKLETxap6KZIumqbiKX6ycfjZvN8uTW8emt49Pj9aCeXFw/+fRHIfRl6k3dJg5aq5/90lcXszoc+pIzqKpePbjz1nL+0hcff/LxP/vNH14fwtnJ4uJq+/FTT0TLtnrz/rEik5lvLZsh5MvduBnCZkqEeD2W04nnXXVqq34s/RBJKV/Qx3K97seP1qkAg/iQNtthfZimWGpnjNEhlrOT5XLWOmes0c7qm81AH128+rDcejhT1sXM6KPKhzgcwB9euX/n1//yvxUxv//Jh2HMKWZDWQjGYQp50o4g5UZZnnJJGRhYmKkkTJqVrRpjTMklbMd+O0y9F0JjTBZIObWuarqFAnOY+kIy7xYU8fnFs37qQ/ApRTRorKo7e8Tt5GOSUoB5Yimsez/EKQIBaSKFYx58P23DxfU/PP8z8d+7e+f1i4tHz55/1JcBsj/sDyP4r735tTdeebnEIU59ycU0i9ntGtyuHg8V8a2j5c1689Gj6+29ox98cH6+PiiiKcSTuX3j3upm52trHl3vB5/60c9rKwAfE6WYX7qzmjV21bnLmx6AZrXd9b6q1Kxx1pkdiF01y0aPWdb7sDn4o1l956TbDTGX0jYOQV5+cKvu2mpxRKYiBGsVpzFPrDXtpi2U6Z1XXv6rv/wr//F//v9893pnmcIhFBgBwQA5pSw1LJJyjqVgAVAIGhwpg5oQx2HKUyaR2lVmVl1u1mEKF/6GUC+aeQGY4sRKhHE6HIa+3w0HRMpcCJAIyaEy6hgXyYTrcGCSGDUZrTOWTCIEFsQqjZUtmiOnp+tPf/+H/8iXvL5+frl/dkiD93vkcnS0/HO/+MttrcL+kFMQAWYBJFs3KWW3uHXkbIz+7u3Vckov3V39+OOLZ1eHZ9f79X564/7KWmNIVq0jQINAOc4bi8TFqOwnNjBNKDk3tX1yselqM6+brnWCdPdWmwUKl3GK92PqY3n8fMtcjhd1YrjZ9vdOF8erZr5aqrrzqaCfYowiYq1LU8K2Gw4HY923vvK1afL/56vN1ebaoiVLqobKmRopx9LHwMJ13ebColCpYiJDljAFLFKhQSX37t7DpHb7XlJmZ24dnYQUWcp8vhzSOPo+9GE4TLlkAaVJGWWKyoziS4IsrdUYsWS2xtZtpZVRClCAQQAADJJSKgOHqXzvj3/78fNHje2mMEzZB4XHs1vf+NK3H95/WPw++X0OkwDmnEtMwLF2KvZ+fb3fHtL1dkJSzuqC6ng1Y5EQ464PAvLO/cW81pNPrWarEJXRRlurnaG2du99utVaW+funqrbxy0DzmdN1baARNpkJJQ8jUPw6eyou1iPcfRK21funSxmtSCFLCZEVNbHsl9fOC3dYqmN6Q/Z9wdI/siY73zrZ55f3fyd//rvEeima7EuKCmNPkERZFKqrZvMEDm+ACJAYuamqmaV8yVb4wDg9Tv3x5CVswUgc2mq9uCHfjpIzpw552SQppBiicZoFHGtA4U+h1br2roUJ0TSmrSIUghCCkEoA8cSGTSqhipf0jBsBMrDB2+//fpX3nrlrVfuPpx3rUyXcX2epgFBAImUJQW536dpVARN42bzWQLVtfajj54VhgJ0/2ypSY7m1ZPL/Wo1L6AU8KICVKYIEhKRMkpsZV++K6lgYTheLSrDVeUIsaoqFrR1PTEqyc6qvveL5dxVh/c/vUQJ0au7r9/rlquqnelmFjNcX9/0m20K/vhoOr1zWxnDknPh8bBfHNd/6Zf/3KPzZ7/zg98Hk1FzTHkqkUUAFSKWwkBAXFJKBUUb4gQhl0OIWhGxdE03b2aPn1/dbK67zrVN6zmk5FEghuwqszydcypxO3BmNKQQMKPWykMSgZNmFnLZxzGWqElIWwUEyUcRLCJ9niSjLejq9pXXv/7n//S//Z2vfOvWqjMKEGCK5WbMPnpUVinIKaHkHIMopxsLNh7ZznXDrRLPnz03xrx6/3gY/fWmX866DNK11SHwbNYa4KNlbY3eD6mtzXbnj04WOZfTU9cP3hhNxl1fXL8yb5kMAeuqLSIKaZzKctbqiP0UVsv5nTHt9/0r909MVU2RQxl1wuurm+3NjTFGGx29395cH5+e6Kr1PqjDXmk7Oz779/7635jy/vuf/BA9gQAZzcKYpWQeiycFDJlFpEgpzMI+hOzDopsp0ohq8H67WxOXujW78TD54GrXVrVdrjThVELMXhTGlEkp6ywXzjGVzPs0VVL5MYa99/uoAYG1KIFKW1KYsRBAoPzq61//1b/0N/+Nn/nZs0WNwMKZCwhSDDFPa0QQkuyjAHAO4/Y6ZHTdStUV2dKY6rC5unXr1n7bP32+funu8bOrPUqJWZTWIHhyNGOWbtlNU1jMjTb27nxRcgFlCqi5df1haCu3G9J+iLfurVJIhnAYw2w5LynGVEhpgLzr/Z1bq/t3lov5rKBSRIRsNJ3dvjNfLHfrK6vAtVXKst/3tmDZ7I5iaGaLHOPJcvnrf/G/6/6J+8OPvh9CINGKFFMpXDJHDaQMIiEEBsXOKk7MuVS2XtTz3dD/+NGHZfTz5WzrpxCiHycfw3zVWeNAtNGmYLGdVVlZa5W2OeZ+l5RRQ0q+5IQZCkgRnTCzYiNoWEmGUvLR0elf+Ev/7l/603/x3nGHwsxZAEAAEFlgGm7KtBEBzlKYWSCMkzCgUmHap40vJeWYmEvyIyG9/ODW+dXm/tmysvTuJ5e3judNU6F2iksuIoKuckCmbux+NxijlTHDGFHZzcE3Xfv8ujeVa7qWgeumKiEs5804xcopbW1KlTXUNE1iCFmAwFSOc+kP+5RiN+tKTn3vz59e3b57cu/ltlvOU06bi3MWmK9OvvDqGwp/NeT0/fd/mDxrbZQGIngxqwkBkYgsoyAhJoPauZPjM5/j44sn/bbvTN2HEFPWSlVtk7loo4bkOeV23gpKCsmH5OpGBHNJDEwETMAKXK3rpZud1HpUGQUCi0GZz49un9z9q7/27/zyd7+jkUspAIKAACKIgBBDif0NEpIy4bALw8gAw3Y9HMYhZK311flFLBILTENfWXx8sXVWh1Sc1XVTtbW7fTyrKwsipI332RCS1iwoLFVTIRKjvt56n2V/GIcxIMhmF8ZQ7H64++Du+mZvrDs6PiLXTrGgopKLH3bKaJcPwOD7ULfz7WZ9/vQpKts1bnF0pJwpXEoYR+A4TClmMkZZ1xG9+crLf+3P/upw6N99/yMiQUQCBAbOIsyAAppUBkYho+4tby1ni8v1ecmp1q4fpxLYtiZbcJXFJCnlmBIVSDGLlllT55HDGFIpJacYCyVRoFJI2qjj2/PF0Uz/j/6H/6GxJnNuq+bBrTu3T05OFi1ByQwvrC8A8uJbcBr2JY+AquSppLh+8hHbmbO2naunf/RDu1ie3btl6+rZo/PtzXp3iO9/cmGNri31PkopD24fCeB83iGiRjTKAXCcQjObCUPl7JR4NwTSSkiNU2m6LkyTtiSoQsxPnlyenh018znauoBSxmolbEhpqymz02MsBLjbHwSpm8+v14fK6vGwq53ZbvafPr50Cr/0xdeb5kijJD9MpCqRd15749d/5b/zt8t/9uT5OSHBiw10LzLAIKcMBmtjlOjT+fEUpk2/RY3gsN8FQjC1RmFOOYS482MJpe1qKzzu/VHXnTYmByGNu3QAZNJKC2jB4rAYTor13/gLv0wEAEAAiCDCL46zCoAAIYgAEAghjlMc9+eQx9BvpmEcd4eUwc1q7ey4vdmst9N6evgSIuyePbkwzjWL2bdni83NNuYCh76kZK2und0P4eHD+7P5wirJ0yEkFrKmqhRy3O1NVt57RKW1DiEppWImy/HoeP70qge5OTo7Q9NIKZKmUrKxdSGM3mehFKPWxKUcDv355VoB+ZCWR3NmjCU6Y27fOVmvt5VTYfLdOB3ft0prbcxX3/ny9frqv/qN/2a935AmI8oAAiEgMSAYTWQ6bJtq/vjqkWJCjbbJxpL3KXJ2qtGkRwn9bhIG7XQjdQwSHVa6UkOuXDWAR4fGGhKshYNET4kYNUABFgRkAAB4MdoDAD+7euEYAAAa+w37TfajkNWOddUwmemw97s0HPpnF5tPLvrvv/fo/t2Tr3z5jZvrzent0916+/zZddNYRR1IAYB+8E3WzupqtgIytupUZkECUtMUGH3lcFe4MFdNO+x3m8OhcjoqWXEBKaOPN8+v6iOqZwsQRoSQSgEKUUhh07aoEI159ORi7KecstHLd997vFwuXGXv3F4dnyxIOTZqP5Z+vEBTL1ZRou9O73z3Wz//5OLZP/nt3zCaFHNJjEitqtHVwmKBbh2fojFT9M7WuSQlWFubcomlZBBNRFoRIFkKMY+HMG6CCqNXmPqUp03vR2t0NrkiqwCN1gjoyGoGBAB8QcPgT2yPICg/uaZhHP3uGYd99pMgjfv9frspgBKmum36wacCv/Dz39hv94d+uLree5+uL29C4QKQmVlkHINVqp65u/dvu3YOSoGAruZGmWkcp2lS2phmPt5cClJMWaGuKzeOUwr+wYOjT55srNPLzsbgVb91Tafrzvd7oJxyGYahcroUq51L0+Bqc+f26vrmULfNbKaH0ZecHoX47PKgke/cOT0+PZ0fnwhizmWcvDrsj1Zn3/ziz3z/3feeT8+ISFuprGttHTgN01jpaj5bjH7EDEE4hWBJ28Y2VhiZAKwhAIcnojRNQzjcHPIIKcfEiVH2PoCIUoSMnoPKyjbGT3HsPSkQBEDAz78RPnPJn3gjswy76xL2MSRyNeesjYOcUUAAAPX6anN6987bX3rz7Xdefnjv5OmT8yz46dOb5xcbAHl4/1Y/+qPVfLmom/lcV3PQlZ/S2O8zc8o5C5VStCLlaqO1JeBcbtZrELBaTVMa+1A5/ejpzbPLnTZ6tpynMAzjkAR8TH7olcbn58/X11eH3a6f0scfPQGkUOTqZo+EgkBKvRgxORwGP3kf8m59c9hu/TQxQphGPw4vP3j5T//sL54dnc5cM2+72piJhx7HoDMYEqGb3bYAxRKHwY9DAkSlFQpK4uBjY6uqdoAwW9R1Z6vGhBRDSrEUElh2TWUNF0lFOBToC08lx6I/j338ic1/Aj6f5wJO0xT7izzuCYkQc07MTLbCUJZHR88+ffz8cvPqF978g3/9vVt3zzKos7NjRjg5WR72/TDIs+fro+XMOrds7dHxCoQzi62ryLQ/TNparQ1po6zjOJAxhylro3f9gCJaK2ftMKWmdQ/vHjPLbrc/u30WGXa73dT3y9U85VQ5NfqMMK43+1hYafvho4t7d04+/vhZSuXkeKGUgpLvnC5Obh0bpWbLOWpaX11KikoRgdJ+XMxOv/2tP7Ud4ff/+Pe3wwWmWFhxLtaZk9WtMXE/DZp0YMxe+n6nW421SoFNKpIFgcRgEXFWnd5dHa6mi/6mlMIZtCJFyMAAzIVyZl+k0q42TvNnsS/w38KizzogyAXG3UX2O+0aZg7Ddlxf7je7/WG4PL9UVbu+ujm+d/d73/8IhE3bWeeWXfvejx/dOl1aZy6ut58+vvzKOw9PVt3HHz9DpU5OjrbrzdGZQ6VyzPmwtu3CuLowa6W1UloRA2SR/TAezeppCreOFpElhPTS/ePdbtzuDm5xopHH0V/frK112pi6qWP0KSUkPevq7X6YRk+E+31/6Ie2qReLGSMloGVblcKu69rFMgmOhwMqo4xrZvzWa2+/9dbXN8Pw5OL5/rBnLhfrq/PzR3kzfPLpR209Hw+7wQ8pBg6laGzaKkIefJi5OkHmIkrpnKVRZJ0CwjiyMUqA98OkWkWEKOyxJF/O2m5mKl0A1Gex/tnon8/jXl5wgDCNabxBMiXH6bCJfsqJla3qWipn2+U8hDTFPHe4PLv9h3/w7mEKD166u90Nz292fpwe3jt794Mn7334xDlTN7VVeH21dW4SYW3r7Xq7XNRQUnt0O3jvnM5aEUpjadHVh8O47yej8dNnmy+8eb8f0+XVbt41l+cXRyyffPy8auq6bvp+6BQVgZhkmpKuaL87ENH7n5xvd+OsdVIgzEvJvL7Zmod8trp/CFG5PO52VdPmGIS55OS9n4N0jT5dLt+6t3oRkizgE2wO4/ObzfXV9Q/f++MfvPuHn/zgRzePnvi4F2RlaZyKTrkFE2J2VgsCAFqrnTP7zaQIjdY5MAvYWilLmKFEPgSPAhoA5CflFgFA+CfQg1IYh/0lp1GYc5hQiqRkmg5M8T7ee/01P4xHp8vZbLZslO0WcZzOr3bXz68OU/jRx+e3j2fLxQyRXN08v9ieHrUpg6vqnDPnoirRCjjn3k/aaOVqVaJz1jhLhEfLencYeh+cUWOAm83htYfH1zd7RLDGXJ1fIQISNE1DCpWi8TA9fnpNClbWhsgXl+ujo6UztnBxSs/mXVNbq/VitVpvD81sdnl+NeuquusKQxj7tutKHEOY6txm9aIzf4HLUmtsjtz947vw5r1f/s5Xx/DXr7b90/PL9z788He/91t/+Af/n836h+MYbG1ijAQwr9r84ixZLkgQU2EAYwmTiBExwAxE2IvfxkEjACK/aD5f1FT5kyYUY4x52pQw5CycUylCWpcQi0i7WrnKZT/trq+tq9BUAHLr3m03n+MnT1+dN7N5y7lUlamc3m77W0ezrmtHH42rl/PaWFVyqiobQiDMcdy2SlTTVXXVdd36Zn18tLi4OTx7dnj57kku5WoztK2rKoMI1pkESqbDcBgqozf7EQS01pXV1ukcwp3bx8tZA4RTyrv9VDsbfGiPZjGkceidtVM/zNtqebQkhL7fI0K/26DS07Br27m1Ff5UQRSRF9vfCVABzB3Ob89euzP/hW+8/ut/+c/96JOnf/vv/p2/+5/8H72flDEKSDMZVF5RFiGtRCTkogwpFIXEQVJgbbSraltVpAAIkFAI4cVWYC1AIAQAgDFMUgIpCyBxPAiioCpFEMBYq12NSrmmcbVbzLv+MHzy4aOr88uuNvPF/ItvvrRazScff/Ybb33xrYeXN/vzi23btSHEYQj9YeLCAOBqlwr0vb88v9jc3KRcZo1zRqOUNx+eHMZwcbM7WlRNbZ8+3wJSVVc3277kOFu0ItBPOUZWCNYoVNS1FRJ5n1ZH86apm7pezlth5pxntX35wcnJyUIbVTgPk9/u+u3NDSJoTSXncb8L05ALy4txNi8moACCIIEQIIiwADOXwpyLlDJ3/HPv3P9f/c//p//L/+A/Oj57FQWUNblw8qly1jkD8mK60WcZxRmSZ6dtZ9uSpfdef15+8UUC4J+4XgCwxBG4sEgJEwuhILOQ1rqqsvc//r3fPT+/VNYpuuIYUojrzT6zvPrSbQWyPJ6drLrf//5Hl1db7+MrD261bd2PyVl9dHq0Xh+mKZCCGLNRQIiS87DfXl1et06t5nVO3in90oOz9z4+n3f16w+OjcL3P774xpdero1GhMMUZq2NJdWVmrUVCM6a6tOn16vlHICfPb+JLI+f39w5XmnChy/dGX1kra8ON8xyfXXDBUoMX/jCa/dCIACtrbE2+j6mINIICCKifM5MBQTlxcvKXlzLZ8kBUPLM4N/6q7/y+iuv/O//T//r937wW9ZmH6XqbF3Zg/YoaBQAYAhFMjZ1bY2egt8d9lM/6c+Q/3MC/CdrY4A5lxQGERHOgGiqOpeSYiBtovcX7//xv/xnv7X2+LPf/ZpSOMboJw8gscgP3nu82e5Oj+dVXbeVnXx8frk2Rs/bqmrqDz/4tKtt1XQppVwyaXMYRqt4VulSuK1MTNmKWKVKkXdePfvk2c1+ClPMjTM+5ovLm+VquVjO4+Vm3rkx5GEKN5t+1jhTVfvdAEBnZ0fXT66M1fdOjzTwrdPVtp+ePV8TCjM7V7WN6xwub52lkPzkx35UeKOt4zhEf4hpbpR6IcP8RBuAz0TJz9H5865dUFhEYf6zP/P226/8R3/n7/+X//l/8X+9fPaBDNg2dtbZcYyFQRO2tm6MQ0OHsZ98AERA1J9Z/3MBgkFeSG8MmFIGSYAopaQXR/6iN9ZNh/049Kru3vjCW1c3Bx/lvY/Onz16cnm9Gabos3z67Krr6uttD0p/452HDOrh/dOmMpWhe2fdNJw+fnp1diazeWtcvd/3KRbrSEhzTpLLvKuGw9C0zX5/qBT+7Jcefvxss5rZ7ZArV11tBltVqPTxqiVFPqEC8TFdx1jVbVU5KXmzPQgRCISYTs5WF+vDerPLuRiU1dEcGBzJG6891NaenBwvV8tudUSkSKkcpjD1zAVA/Yk2IJ8Z/6eY0mdcVRDws4wQkPzwuPqf/A9+/We/9a3/+D/7v//o+/8CStFusbne+LGfVw0CooIEmaWwsAAohfqnnCovRH8EYIAikMLEcYDCJfo0DmSscnUYhmF9Ba4tRZrZok347JNPhyle3ux95FvH8wcPbj14ftrWjUjxMe+HgIi7kklkszmYys6X8+PT5dXVNqdwdveWseZwtS2sR++PFt2zZ5f3bi/my/nFxc1mPzZWKcRlZ0NMxrntxfbe6TyXMk2jtbPEnFI+O+4ubg5jAkVQWAxiSbmr3cmyu97snz2/FuYwhbOz1c16vx98rVVdtY+eXr3+6r3nT5+NU1z5uDo+tppKsmna55RY7E846k/Emf927H9OWH/CnLiIwvILX371y6/9Bx89Oy+piMjzq8vf+73f+Zf/7L/a73fTuNFMXtsopUhGIP3Zf3/u288xDjlznHaSfSk+56KqhmwtXErOVDUZNCB67195/eHt01m/7ytnPn12HTKj8NuvP/z40/PlrB6GCQQW86abH//Ru5/sD9ODW/PVqdut+9liNo7+5nq3WM6Wi9l+c3PY930/tXUVfJIZG+cEKBYpqJZdfbnzTS21M7mUEMv2MHWtq5pmv/HtbLlozeGyd62ra/vw9vG2n3wup8ezR+fXXNin3M5brc3yaHF5tXn1rZcM4awxde20NoJwfb3BkjTdFmXN0IcYBNrPbY7wwiY/oUj/Px/8vFL/RL9BKbys6Buv3f/cqi//0re/+d5f+IvX68P/9n/zH948ef/4eGmdyzG2Ta3xxbOf957yuW9FgMghEscAnIEZhXNKwfvxMB32l828mYbxk48+rZ3+9NHFp4+fC+kffvjs8fnNajV79Oy6crZr6rtnq+dX2/uKfv5rr9dd8/Tp5dEteeXVe4+eXl/d7JSi/rB/9Y1X99vNrLFQEhQFYHwIz56vC0AKvOzs+no8jD6FWApDoa5WDPb55eb4WGqLqsRF4zZuMkbN22q5mk0pJYZ1733MRqvL9c7sx+uqb2v7zmt3tZaj1dxP4fpmq42pUYWQQq1zCovKSkkxePwT+35WGn8S8fgTcwkA8OdmfwFSn2kKIvJ5nQYBmVv49hdeYYAp/S/+4//b/+7TH/9h0xqvJKasXzwj+BMO/NljSiEZi0hISrlKt7WUHEOwdWPr0WUGkK61fZDFvDtatYvNbLMbjpfdraPF3dtHF9f7nMvVZrc9jGfHix9/8EjLnS/ceu32N94+f3ZzcMPJ2fH+MDx9dvmHf/T8att/+atfuD5/tnCQCwiny6vt5KOfQolp0aijlogcM79yNs/MGKa7R6uPn1wbtZ/VyuoaiF65u4pZjpYdKMWAj59dPLh9dv/u6bPn1yjwxsOzD55cvffpE6XVy2czQtrux83m8MbrL3lfaqPQnPbDpC/Ol2cYhn2It5RT9HnMi3wu1eDnjngB/S/eRYWCn1kf5HMJ56fSAgGAc0GEX/ulb3/zC/+H//Tv/b9+45/+F48/etdYowU/9xSIvCjMIATCSFyScCalXLssQP6wA0RS2jVNiLnfbhZHRy3LYX/Y78f5Yn58emSfXMYQlaKmrpzVSHR5vdnt9gb56cV6tpzfvsX37p3u+zEMg7bu1tlxLPzbv/ejy/Xu9Vcf9vv9/dtHy8UyX21S3koYiQsUJ4XvLuzJyTIXEZCjecVFFo3ZrPe5MjkW181Oz46mcboZ6dn5lbOmsXYYRtCqMAvi5XrvjNKIF5c3JeWSLtu2ZoYfvvvJGy/fh+Xs+bOLe3eOPUGY++B9KT+F7vLZWtXn9v/MGQKAn4sIL4woAIDyU/nx2a8+QxcBhPLyWfc/+1v/7l/7K//WH/zghwryZ2LcixqCCC9eMfHZf3EGYCAlQMhcouec/GG3v7nebvaXlzfOUhj63/7Djz95vmakzDJMnhBudsO8rSpr795afevLrz99dr7b7vfD9N77jzn42inULeVc12a/K6+/dNuifO+HH66v1vduH0kKVlOYptuLep8nTRqtk6rWSnxG5+xiVk1DvxkykFq2lkVylnHbxxAe3DtpDfaKpv7w0r2jVOBHH537mAcf1AG/8Mrteetqo+/cOnq+Hq+v16vl3Cqltdy/s2oqp9SLAaIh+VG4sGhE+el4B2H5qTrw07UZ4Cfd6p/cls9im1+U7s+IXWFCePX28tU7Pw8Amn5KeiAgAHgxXRoEJA0iwqWQdcFP0fthux5323G36zebfrcfjG7raj5v4HK7Wszayl6v9w/unm13h+fr3byy3/nGa0ermVawm7fPnq+v96F/96no6uU3XyXTNIBeuEW8d++kdXRxcROGw0UcQISLPH309OG945s+LmZalDp4GS43q3m9308+pPUQ55U5Wq1yyUedU4ouN1P06XjuiuBOwTAlZYwgEsLbL9358aPnP/zw/HjZnV/tEuDd05VGGEb/5sv3FrPq4w8f3T5bPnzlQWEJw37cXu5226q6Rfrz1vOzHvQFUv//1+IXSPT5rc/vy0+Vjp9yjwhAZiYBQNAvmtjPlWgpAAyIgDmlEocSRtI1AHCcUvAizPxiYLhbLlpl1HY/bofwxTdfOlrOH59fF5bt7lBV7mp7eDyF/RTeeun26clytZqTdunRhSLYT/n6alNYKufmtblaH87m1cO7x1984zYLPHtymViijydHHSAB6RhLM1OLxVzdMVpyzALZv3T/2BglwjeXm8kXAdn3wSpYHi9Pl421yg05FeFS2touZt28rYdxGsfQVPbjR5dXN4fjRZdS/vDx85fuHKeUU74JCeaz7uhk1R4NfpoKA784pv15A4R/EqyfY8tP+wCEP1/dgs/bekbhn/KLfF7Q+XNkIgEQREYony8LEwihICLqSgBBmAgEwNjaGKuNrur/b13v1WNbltz5RSy7/fHp781ry1d3g93kUARFaSBpHgRB+hx60rcZYJ70FTRPAqHRUI4ShOluUl3Fqi5z/U177PZ7eT2czFtFzkw+JDIPTmYiY60d5vePFSvmQlIuKCACLqbj08NJAIikfPLwpOmVdTBK0kmR1U334u1tWXbG0+tVtd5Ug9L9oF6/vfTBqqFPpZgUkUwi5WE3uJtNVxSppBiczYpcZoX2rB48OC+Cm8RkPivmB9PT48k4EVKI97fNza5f19Z5MslTD0QbIymJGZ4eTUPwoyySgiutnj08zNIkT9PpqPizXz4bZfEkT54/OZ1kcVk2UvLDg0VAsqtbqwbV1UO77drGmGDDvUP4sH9D8MF7CCH8LE4A3LW07N8RQoAACAEwBAx3s/jABXSAe1Pv14B5QAcQAAkABaD7hy0A51SOTlWzCm5w1ngzEPDBOad0AOzq6up6xxn96vs3UZoa6xjnxgWjDAHMUzkfZ4/ODrNYXN5u2mGglEkphWBJJNebalu176/Wv/nVx0UWbbe73WYrOFeDUtqMEwHe5qNMSLHdtqNRxglhgttAPFDCJAtAZES8liKejEcXVyv0fj7OlHXB8dAoRzhDzGPGGImkRIJ5JLJIXN7uokiM8yiP+cPjyc1y9+VHp71yg7ZZnjBOeuX7Xr+7WMdptn37jZAppedxKinFuy4R+BB9/6MfAcBjIHdvCghI9kQJECBQDAHA7wNGgLCPAfsHjNy9ePcHGEUuYkTinA4GnLXN5lZpq7S5vrj66uuXMs2Wu7rqDYvD77959eUnT4IP6201m+RpLCfjLE3E4Wx0vBivywrBL+YjpYZxJo0PnCCV4g/fvPzs+YPJOPdbTwmptBWU1E2vA2oTDqbs7GRmtM0Tno/GqjeCE/CO+QCUeJpKET08pHn8KSVICQlWRWmEwSFFDNo01aOD/MWrm07pbFK8vlwRQpqmjzjWjGaxSLLs9cUy4oxLsd1W63V1enxwcjTblt27t1dRMRs/VEBICP8I0X/wNvfk4C4C7H1OgOADhvvkKNyrjR8su6c+BHCf/SMAww+7/m4BP0QQAAAUuWtuAYg32mg1tF1flmXZTmYzKkQ7mF99Ov/mx7cni0nd9r0yUjBCSCTFyWKSSLkpO6V1kSda26pspJRVO0ymIwAyzqIoi77/4e14lI3zqO3UblefzLIkT9vBck7yND6e52mWZImkIkIC4MOgrLW+77VzIVBRTNLxrFjdrHbbmlNQg06SGCloE8bTjAn28dP2x5dX18vN26u1FJxS8u3LyziS1ruj+SSioel0GrtOu1fvV7tmODk+yNN4eniAlPdtaa2jVBAI+72MH0qt8MHwH+wWwh1EAPyZrvtBbMc7j3RXP5C9/PgTivi56T/8KGMBRXDae+JcEGlOZNq11vj1x5890zZMxjnj9Ksf3nz5/OHLd7dqUNNRfnQ4uVnuRnny+t3NuMiE5N66vIi0TeyutoQpbTtl4kicTYvd4bxt2jSJri6XnBEZyWfnc4c8lnw+yQhhBHzXDdB0cSoZF4yC10OWRowRINQE7mnOWRVL4QCrzlTV6nCeYQir1aYYZY8eHNR19/ffvHt6tnh9uUZCOeN5ljBKJDgw9mA+rVqdcn5+PK9aZd/dnB3O1lmVZ3mzulpevRf8PEkE+UkzvONl4Z/Y686yiB/qqoD4k6Tws3aru1aSO4bHMCBAQIQA6AAQYK8dOAAEZCIBZE7VEFwUR71ycjR++PScEXJ1eTWejF6/v/rFR48Ep8/Oj759eVXkSdcbIbgdhuNFcbksBWMuEaNczqfZer1F7w6mkyXsurbtu2E8yvSgjFKH43hSpGcPDufzkfG42XQvXl4JhqOECwqMEmtdcG0yyimPXSDKeGIbEmPXmEE55wEQM8lQYt2oplfaml6ZySj59PnDYjLdle3bZTXKk5YiBI9Am8Fw7tqL28l0jJzP4zhNosG6QEjd9FdXNzxKdtMbFmWnpweRIAhAftY7co8NfuINPysMwv0b7gHeT9t8vyr44dFgPz1M9z+6H3fAAJAB5dKbAUIglPXt0G3X3XaLPnz11QugzPhQbav5pDDO3awrJKCM6bshzRLn0Bi7mI2rpu+Uu15VxSiPBM/nhXdmMc03a9s3DVAWCb6pBtcNsWAXl7e///9+XJWd7vUo4efH01byWPJiMoahl4z2qx2lnDhNOHNWS+OqxlX1QDAQtAEwOMdZGOcR0tgNPTPdfCQZH796v56O82AtJVi1apwRH8J6W89mI20sIWzdDpfLMk+j88cPmkHxEodhqLabdHo4qKnkfI8lQgh4/8Xeo4e75fiZ4/kplOJPnv0n3Hm/MogAwPZfhhAAwQe0ASjetUQDAmUMKUdimIj0ct03rR7U9ap+8W750fNzTsnRwbRr2qtNu9rVk3Hx9uJmlMcYMM1SCuHN1TqSHAVvetMMm92uts4fH4w2dbtr+tl85JHf7tZd2+muudi0y22bRlEIngB0vWp6lSXxuMgmCtKIZWnEGWUwMBKiKPYy7zq1WbfXy4oQyBORJTIvUkDvPGAwAcnlWmG53AxEUKr6vu6GiDFvnbVmOsq2u6br9GQ8kXHMo/R2XTad3m6qk6MFEii3VTYr+6bpexVLRjkihv1E77sAiR+43D8qisN9hhr2I/zDvcF/Rp0/kFYW9t4MMQQICPfX+wACOg/eO8qlt9pZJ+MIkF7flN/++O70aPb44dF2W41SeXm9/vH9zaTIOGejPLXGUMQkjrdlGwkZwF+vdkabmNMsix6eHZqhbZqOAPz+m7e7apgkcldVWZEW03FnadU0ZdVSSoIxRSzmI9MMxtiQxrxtB0pCFsssjUlvo0SPZtPWiE7D8voanOEUQuVjyaJYtr1fV6psVZHF76/L5bbzAZWyFLHXetgaY53kfFD6drlBxtMkPZqNlIOAfFO2h4spQTDVsrp6UY+mSSQY5YwQ8gEKfWjfgf/gBwLuL1UF8k/q4589JRjuXFAIAf1+1D1+KL0h+BCsJgDBOXRWD8Pq+qbrFWPs4dnhdluXVTsbp6uyZ4wrbdeb8vx0vqv7Td0Y64Fgrw0h4WCWbzZVyvHBIh2l4tqg5CZmPo/9YWGUNsHbSZ4v8vR4OrI+IKXXy833r99zim9vtmJdLTfNyWK0mGRnx7NeWwidD2ln1Jib+eFscniU53Kz2tSdwrZHQqTkJqDSMGi7u9l6D2XTuQBJJPZdLdaH9a6ejvKz42MpxW5bBmn6YfBEOGeYSG/XldaaSRHYcrO8XBzOCQqy38P/ns3vtaw7IvGhBIP7lOnn/GKfLN1XCYR9SJDIfXaL96DVOe9tF7wN1mpltQOZFcjao6O5d+52XXHOusF5pAA0iWNGwnpbCymtg8vVNo1lnkZvLq+djY7m+Wg8pkxc3OqsKM5PExYMpaRtu65X54ezwdhN2RmjD2ejh8eLP/nsya+ePdhtN68vlptdnUZyVXVV02sbFtNcaVf3JRJadi6fWCkjxkQA5ryjhCEhJmDbDe9uS4/YdP2oSADJtqwTIfpBMUaDs1kUQ4DlenM4HU3yOFCqtJMx9Mp0V8vD2QQJtcbaod9cvnqd5M8+fj7O5L9fhIUQPN5x0XvT30XkfWM5IoGf8euA4O++w4DA7sUAuLtpN9wzbgiEEMoiQjkQHrzyWnVNU9dNnCRV3fXazmeT95crZWE8Kgh4xmBQZl11UkhC0AcoW6WtlYJPpnMAiUgDBN01lBDkFDxwKevVTnIsEjnOF5tt2dTd6xdvdd9PxjkNllHSTIo9JOi6frVrnPMEqdKKch7Fw+EQ0iyrysoHSLIMCamqanmzffXuetcrQqkHsNYSgiEEztmgdD9ogFB3w5gm4J01OpYZiyKkTGmNlEdR1GnLOiU3JRcyVNvVxUshIv/wdFJE5J/4EwTyk16wt/4+/QwhIPlZcCYB7rn13UsEAgt3mc9dm/SHYgEBEANiQEIhBCBICC3Gk48/TtarzeXN5uzsxAWwQMZFxHl0cb0kGAh4yYX33lhPWRjUICn6QC+vdoIz8F4KJjmVkstRxnmUiPjBGdksl0DoJJecjLatxhB+eHFBCD5//pBS7IdBGw/OT8cj56wQnFI6OGcDBoBt2VatHvreGOM2xli/q+rv3l43g7I+RIJxGd1s2ziKvPNaaescAiBSANcrFUfCAyrjatUkkZBxSil1LrRdTyAIQqKoIgg7a2xf9/XTR88/GY9zych99Qt3vuRue9/tYQ8AATyADiAA6L18sHdSiHDvhYDZgBSA4k/QlEAIAQNiCCF4AKRI6L5LIABeXl6vy+bk+EBrUzdDJATjYrVtrTGJ5Mb64IP1HhADEKVN3zt3uzs9mAPx3aCVogfzMSCsN7vpeMQIHB+MRMTfvnyH3jw+P3DXdZQkURy1Td033fHxgfPkdrlxxtd1m2URMIaEDNpdrlZZLLM0CwG7YSAA2tq6bddlW/UDJSSPRRxJ7cBaZ7VeTHLvfQi+HRTBIBiNJdv/h0mSJITt6r5VTZ7HURQBEBICYWS9q+tmmE2LftCq77yHJ59+OR7Fku0N9I9d0r2n36eW9MO5o/uc9N7V7BcNEJGFAB7vj8EE9D9PX0MgPCIsIiQwRr029W43ns1OTo7evbviabGYz99frwY1dH03G2e6a3trlXGcMWd9FzQilTLGYCbTcdDaWgcIxrjDxWS7Ld9drxkJoyw5Ojn47POnu/Wqa4dnT07/+PJGRuJ0cUgRrpe7URZlcrraqsKb2aQo66FpeyTkdlPeBBhlLUFshwEAjLEQQpbI08U4iqRgFABcAKUNExwZC0irqiWUB2cw+HbQkyKXgipj0piNJ+O2193gtuWGUpyOCqB0Nh37ALuy7Xutus5o27fV+fPPJrNpGgtCkFDEnxhdwD3AhgAAJARA2D+pBO8q3H8SvhklQPaw9H7t7mXmQBllIgYqWJyTbk1ImB0uVsvq4t1lUeRpnl1ebwFgs6sPD+ZN3VRVPZsUdaeUtkoPzdBmsZikMktGSSQCQyEYgWCs1UMbS1o23vhwudytttX52cFklO+2m013sdvUkpNxNO5sWK1r7xwEf3w07Qdd1T2jrKyauumeniwIE9Px+OLyklPsB80R8lhkSTyfTaUUxijGeBRH2lrjwmCc1jadj+ajpB3UzWqbxhIJNr2OkbkQgFnnQCubxDEg1Q6bdohknyYJYZG23rft0L9utuvtcvX0l//s7MFRnuwvn9rrNOFOkAyAe+QJQADvmw8RAfzP/NZ+kzPnwPk7/hAAPrQF4115R1gy8aYhdBcCWKW86SkjwZlyVwWrWLB5khBk2mFazF2w2nZNN/TGbaoykRPBszxLs0Q2LZwtZk1dN90QRYn3fpy5XdXEcTL09YuXb5+eHxIufvzxPac0neba49XNNiBVVo9T+e562/d6DxYjIcSYHCymAdh4NC4S8eb9pVYDQPDeM0YFpwQCZwwIrrdlrw2jbFe1QNnBOJOSCQLp2UFddwQRgJRVl8aRkKQdnDYeKc/SKBY8T2Jv7aZsUs8FR+wN8arebdumQ56OJuNRnty3Q4RwT+nuQmlAG4Dd7X0EAHd34vFOtN/ntMxqb6wDIJQSQiAwoBQJAEJwASiPeDLTzSaEICLp1uWmGtpOFUVOAK1m9eCSJNmWFaVM8lDVSpnQK6O0lYzliUwEW0wLgphEAgk4b7mgg1JSRAGCdm6oy3GeEvQWaERpnkY+hG3VSUaePz5CFjvwScxevV2tV7th6PeDpgTny3U5GRUHiwJAX1yhtV5KHkWR3t9vs59AAkgJSSJhjTVG26HfgfVIFpNskeevlR5s4BQ4oy6gdY4hWIIIQeveGC2lnIyyXdXuNusiT7kgq5uNoDAo4+z/Ca6vf/ln88ViXEScU/JB9kIAAIKBIwTYe/WAd2LZh+29Lw0C8x7cXoR0AHuPBeABvAO770EAipRH+diHG62UlDwRuUC/bXTbNkWc1J3JYlk2vQrWOGe0QdgfNgeGNM/SLI77Xk8medvWm11JCeWCL6YjJCilSNO4KmuthttlWRRZMSqU1q/eXoF340kxm8XW4vVNmWVJLGXX1kPbaa2jOGIMJ/PZoNX3L99drcs9LTbWDMrjak0JydKEMWpd8CF4xDxLnHWtMoySQem0SFdVPwxqUmRCSAuh7vWgLaGcUkoZlyx4p6zmi1FSDlabwXkuorxry+byduiHqqwuX7/65J/9559++cVimt7juLta2cO+p/ofhWkPd1nQhzSWURIkw33Z5r33/k5W8CEgIiHAhdTxlPAd5yxLpdVD21qtQ3BmPskaFRinzDjvrTLOWcs554JpW206s6maR8fzEEKaijSNdrtScIYA19fL1e1mUiTFePTdizd9r4J1z86PFqNYxuLyZjubjIo0Kpvu6x8uGMHZdNT3JuJ0Nk3no1REzBO+K8vlpr662f7hx4tNXdMAo0RGzu3tm6WxNsY6i0g450hp1XTrqt02vXb+F9HJseTTSaG1JkCAEIZEMIyijCAqo9vW5/PROI208VFCs4Std/XNapdnufMo41gZp5bLYjbvyu1620rB04RzTn7u3z+YHu89E8F7B3QvMDNCCGUQfNj7L79/GhiGgASDDwhMxPm8310LTvQwrNYVZTRLeGgtYGJ0a9TQD8ZZ7Vxw1gpGjfOMEilE1XajXKI3RT6CgBCCIGS+mF0vN0PfWatI8B8/Ofv+xTuKoNVQlTDB/PR4MR0Xy9Xmx5cXhEUikXHEHj2Yaxu00srB8rpq2vZ2tW3anst4f6/6YlqczEYEvOSUc2adRx+4FC7AoDUlJOIMwl3Ted0OVatultuhHybjYj5LgkdnHAFb9woDWE0vrg2GcLiYjrLEBrhaN+Vuy0iYTGfgnenb2WTWV+Xu9n345AvrvPdw9/v3sRjBeGQYyE9cep+G7mEq7EMyw/vOxHuEh4iBIALZH1YKlBAQkQ+sHZwxDoPzDv1+PvPQd23VdkYpH8ey29UALgQavA/eISKl6Jx3RkdJ3PZ6Pk5hxANhUkoA0C4M2jw8OyRIql3JKURSWAvC2YNCzKcPT08WBIEyAt53nUHGqIi7skZAa31R5McnMwj06GjxxxdvOAlJxKdFEqx3ziCnxntEiBg/nBXLcliV61iwaZ6kWVzkiaTk7Gh6dbu5Xe/KpkujKIlTJkQspbOOEC6j2DjYlm0RbQ+P50fTjMJZWe0ko6pXBDwJQXBeXb9+8/Vvs/yfZ4kM4X62BgBC4OTn+uK9bLnvqN4nmuEeRyNB8D4ET39WSjjnrPOEUETiSaS1Q/BM8CzL3l2X3rvNrtk0g/PBe6QOBu0wICEhBMc5D23X9Gq92R4/f0QZZRSjcSE4LbflZJQObRi0A+/qqkwSiSG31g9Gcx6stavKRNLFEQeAqurWu84GnM/GSUxns9z7cHRUeKu3u4pSuqqNc6EuqxjznmEimNIaKCGUGeuQ0vWuJYRGkhlnL1blAQBSdrWp8zSOpByPaPBeW0vNABS8JbHgWcKMtxH1ecwrpcjNejKbLTc7yXlV7g4P57ojhBEXgjVm/faPL/MxfP7Lo4OxEHgvDtxBiH3fyb3BIQQg952kiMC8gw/oAgFC8AQJAnjrrLXKeM4CRbTGF8eP6s0N39W3m5pzdrVu180QCbGrOylY3Q7egx4GKbkPIU9iY83NurveVv9JHseRsFZrpZwB4lWecCYmw2q3Wm/Kqqo6VWSZ08N8OgqULreN0oYRwmS03lXehzQS0/lEMkhTCc729c4T3NU6Fqwa7D/8eFk3rSSorauVRULjvPDeuP3QEyDKKsagGBVvb3eC013ZZGlycbM5nk+3ZcM455RoowE8owQBB2+MGQBIsHqwNs+nVaWeJ/F8Pqlq2ZZbZ4wUYnawsNbtNUjVVt4ZYy2hDCnZi5HhLiAjQvAfUqB9pxCEAEADsruw7cOHhl7vPQA450JAwSlB0IOKshFNZkC4Q6adUlqtNjWheLnazYqsHRQiWKPyPNHGOGdnRcYoEnBNr2YHR0CYYBiL1AK8ffP24nY3KnJAaoFY44o8bdtumklGPAI+fnAAhN4sd8H7jx8d7jqrtHHel21/s9wJGWutgtOzkSBCrq/K6Sh9c3GNEQNCRokoUpnEwlq6rYc0S7tBJ3FMKGsG/ezh8dXNCiA0TTcb5ZFgzjnj3ADgfKCEVE1LCAkhWOesC6O8KCxoQ/I0rsvqwZPzW8EFQx/AIdGDpgQDY4TJKB8LxigSBPTh3u+He6Ud77LT/cZ3AIhAARCBeO+8C/fcdH8UnoQAgITS/Q2NhHLGozgQKsaHlAlBsWmVjKLltjmY5omklCBBjAQ31hvnOWWIEAnOKfmzX/8SuDB6IIgsThm4xWz86GReJJKRsN2VFIAROD+ZPzxd+ICxIHHEQvCRoIJC2fRN23nvdlXT1D3nPIr5o0dHHz9/ECfp1XXljM0lO5xNsiTijBkPTTcQRJmkeZEmgk2zqIj5fJxKRjgj00nhAX94f8sonp0eHMzGBEIaR4DQDcpa1/b6Yl1uqt5YhwjT8SgAiSTvlGMEqUwAmbVOSqm0MUZHSWxUu3n33W55iYhIEBEhoA/gETyCB/ABfUAHaAECIkdgQAiSPY4GZ7VSPaWMMYH4k34TIHgXvHMQghQ8G02qYr44OdavXhepeH21Pj6cxZzerLaECi7o5WonOScEizzeQ0FK2enxoVVd37XeqNvLq2I8XhzNu04r73e3S21M3Q3WmmkevX537ULohmHoNXCpLWhlmsEoZYzzRZHNpuMkEcG529uVjOPrm63qhzhicRxT+eC7H15LyeeTnDJeD9q2DefUWGs9SBld3mwGY6NItD2W7VD1KgDGnIxGWVm316stocSHMGg7GONDKPKIMG6BBG/TKGkHQxA32107EOfRKV05PT84APC79SbL06Fav/3u79O8ePD4USAfJOP73b9XWgLsU5898fT7IGyt3af/xmrh93wPKSUEEPC+y857LjgAHD/9pF9fikg2t5ULPorTdxfX01E6H4++/uE9Elo2LSOYxzxNI4Lh/OyYgtfKDsNQjPLqzTut9a6S2rmvv3s1KKuMIYRl6ehmVb6+uE1jGcdxMZ6XN2vg4vxktmDy7ftrIWgxKnwIy9utdR4J7XWPlHfalnU/C4EC6QZdNjjJ5OOzXIfk8mpTlx3l3DvoVLvc1Jumy/NEa0sQBCN5kWhl6qoe5WnddsZY78F6u2diQkrK413TvXz95vzsYWeg62hRyM6ycldJFkZZ5KwWceysNcYqY1RTXr59kRaj8WSMdI+GAPwdeSZ30PpOcXH3i8OU1pxzKSPrLNmPqfZhH6rD/iIICIhBa5MUYzO0Ip/22ltjDiajpiqNtacHk5cX68EoHzyhxDhfth1nNE/k6emhcS5AoJQSyvLp9PZ2hU3XKccYy4Sk2lrvy7JlnKT5KAT//mbLhTw8e/DX/8v/9uWXn3/22RfH58/Ghdiu1+v1ptdOd52QLE1iHote0Ovb9tVNyTgnFNJIKG21c0BIXmRASD+oLE26fiAUBWfbXXN6MPEIrbFCyG7QCKAGncWRk37QfjCGcq6sJYh5Em3qqhAJYugGtVw381HEkhHnjBLvraPBMnBCskCIGtTy5lY7Yh159NGnZw+Og0fvg7MGEQnBgLiHD5T87MDNvg6w1uzLAASkhBAMELx3d3F5Dy32F8F6zseHp8WoIO9vilSuq/DkweHLdzevr9Z5Gje98t5pY61l1jllHJJQtjqPjYwzay3wJJ9MiXfrd9cyinzArjfWe+XDwdF5IPzbb/74F3/1Vz++eBk1+vknX2xac3l9PTl9tB3Gzx6MZJy8fvuOco7ovdVJwh88PExGxZuL5cv3S+qCtqYYL9rexjEpsogQZJxSAMZIEknnw6DtpmwOTw60QwL4/ZsrQdmgjXNeewiUsYBIqbN20LqAwCiRUXqz3nWD7frGYkRIdLhIYkH10FtjhmEgTIRgtlVba0iX/dX7y69/+9vnX3x5+vjZbls/ef50Ns3I/UGDO7t/gBYBWAAM3hOyv47IGxsAwPn7uYEhIEEMgVAaxbGM42E6B63GCSt7B+B2dfPjxSoSbH80wzovBRNScMFHRRZH8tXljRTs6DA3dsjzpMiioW2ODxddp6qmw3FujKUyPn7yyf/+b/7NZ58/m04mx2eP/6d//a8fPX7y6Z//ZTyb3V68oXxzAfPPH55Fgl5fXg5DRxhVDoamDsadnyw8FaurK+NAWzud5IPSLKCkobSmN84DAsFIstPDiXFhGEyWSK3UblvOp5OApNXOBMjTqFI1owRDIIDeewKkHbRgVHI6SqdJni5mOaiaBijSaFe2y3U5TqPehysl2Pjwat387d/+v5OE/fEfvnr68IjFBbr/Ivn1r4QQlCBCgP3nD7UxAgNEJBQJ+uCdC9o5ikgR234YusGqjoLOijGEgExQyoJ3MhLWOE7RKXW5rpp+aPpAADmng1JxJJFw5ci76+VgdBRFy+UKvJ2MMquUGrrLd1fIuPPBOjtorbVbTOZf/f63l5fv/+QXz//d3321LZu//C//68vrq2//8Pe//LNfdyhgfZ0Kvimi8XzeDYNe2XpXKm2N1kr1cZpvd7V2/nCSKuN6ZQGw71XXqa7XBIFKEUdiWzZpGiHB69U2iWXdaBvABmwGves6goQx7LQCpSZ5nqXZMOgojo8ODy8urzlns4ODSSaEbwgnUZyYttKqFaP5bdu/v7xttZsMenW77JV68ORhK9Lf/Xg1lF9/+w9ff/knv/noV3/6i9/86XQUUwz3U7H2QRmZ27NQDyGACwCAxkNvbblZl5tVnI1sX12/+YGjGx0/jpICKJ0/eDxf3ry5qQbrd61mTPZDp4yWVuRpAggQHKFiUKrs/braKqPPquYv/vSLxWKyul2lY900bdu1QshdPUzHRVdX37+9ao198cMP+dGjr354HR+cHDx6vLm93Sw3dui3794cHx/e+oQYM5rMblcbZTzlrBu0Ml4iVl2vexXHc+c8UGKt67RtlFLGI3pvLHqQkg/KXCx3Qghj3bppOuMg+IPppNPWGr3e1YLzOEq5kISy7a5+9snzX33++e3N5dHB5OxwQp1BxiWnum92FvzikULu5Dxsu+vvf7e5umAyyhdH26rBsvrhh9cyuMVvPv/tb3+32WyOjo/n4+f0rkPipwqB7bPWfbSlBJ3zXW+G3iplvPdGdSwqmEewrWorsB2LC5Hkb29K7RBZ9NHTx2oYXl8tuVYEcDadAGJVNzLqZZQrY6+uN4PuZ0XMEJqy9M6dnD9st+u6bnZVKyJJGV1dL/+7/+a/+ut/+393gzk7Ojv/1F9dvX9WxEcnR8s3r3y3O3n0xGSH684gkY8KOV8c7jbb5WrlfRiUyVkUAiDlgVDGSVW3IYS21855SjEEKhlp2sEj6/raOb9vrxqUHbRd7+qnDx90FkkwZdN7gCRKmrY8mk432HCCh0fTv/rNZ4KzSJCh78vNpsiFz6Zw8IB7dH2LTsdFMXv6WXl7WZVblsRZcfL65Yuj46MHjx6/vrlevf/+4dkDNfT+pzNjH+AcMIphLyR1yhrrldLaBLAqOMNkolRvrHPGAPBIpA496GG72bRV/eD88dEB+/HipmttmiTWGkqJkGIYeuM9grfO8GRUty+VVnXbu+AZAgFvuq1WXdf226ppui6KZBJH3XajjHlRluObC8HD4dl5CHD18gfh+qeffMxmJyyOEYND9ASLTIo41tpSzlgU3W7rrtejhDe9zkBicMMwuEA4pVrrWErrPVDitEFCmOBIII4kUkIpdd4rax6cP1pfvmUjtq5abfTp2ekXX3wZvfjx0WLkN+9OZwlSjkk+KNNbc9u7KGU58UPbeecjwRaHizgrbiT5w2+vh9dvnFbHRyeLg8XQbd9fvD+eHayXN9azAORe+cVwd7x1344VggsBAXwArb3WhgsexQml1DpQar8Eph1sq32vve2a+Tg9mkaSs0E7HiVH8+mDk2OlTd3rutODdsoErdR8OitGE+OcB2SMjebzyXwmBXfWbspytd6FAM65UZZwAk8/+rTq9cXlJSFIIbz+5h92y8vFo6dkdhoY66otJ4jBDl2VFGPlYFM2u13lQ7i8XlICglEXQtMrZWyv7a7pjAvG+QCwLrumN0IwQkks+OnRPE5SQWmRCEKIcy6WtKzrJBZSiiQSk3Hx/JOnz84OptxEvkuo5wwVk3Y0g9kJTE7Ldui7jjFCCTijrGqI6+ZHhx99/llA3N4uTd+F4Fab7XRxUByfrurh27/7d13T3o0B2ldhgAGAaesIAkEUDAlAMo0RyTAMjBdMcESw9g6uNuXSueHk5JwQlIK8vbjhyfhgvliVbd/Vo4g9PD6pOjVfnPhNuW16Sd2LF98+eXB0cX0xn0+bduCy63a7plWdslKKUZHFcZTlRcICSFkcTJ9/+smuLIs8f/PiRZ7Ij778Mp/PnbepjFXXBas0ke97fzYOZVl3g4nTmBjvPERRzARbbWrB6R7vvLlaqfkoj8X1utzVvZRR0ytnHWN0V3fvr9eMUUap88F5i7YzRk0mU4zyk1lxuV4GVU+kn2U8TeRg3UUXonFMCebjUT9oJKSumvks10pbH6wNHoiU7MlHz4UUL77549sXLzjDOMnjSCLo66ur5c113Zs0DZTCvnsxACJBhog++H17DCBhlHpAkaQiQJJlk/ncOu+M1UoV4xGBQMDOz5/w7/743fdvJyPVGz806vj0dLttzLDDgDfLpbW+79tkWvzw6hWH488/Ou+UevP+SgiiHBrvsiziBPIsa/s+4Xi0mKy0b5vd+fOn2+X68odvEklPnn6ULk61c95pzmmcRJSBVi6Nk4v3b50z88V0WfVtPVRNj4Qgyw4X84giIkEXzk5ZLnAyKupWMZlGkvdd2/V906kQwigWccSFlFXd1k3zJJFFkU4Wc1LVT549fPHm9dvv/jiLfBzH8WS8KTVPxs75phkYo5R4KUldmrqqqeBe+xACBOdNb2yYzuf22dPvvvr67es3zz//Inj37vWFVwZlGseJ0lYKCoDeh31hzAJgAAqEICAEu2/opXdjW3GPJRjjREgWO6uU1+3i/Pknv/7TP766fvX+hlJadeqjT57/Z//iX/yP//JffXx+GuXTP/zhW11keUzn0+kPb28W04IgJE9PAuJmW1o1CM6pELprtDYnT6YEaQoW3aC6rlwvDeDhw2dyPCEUrTI++OCU4PGgnOCEUl81tVaKp7kpjTX+sy9/9fTjzx4+PJOCChGJKEMEKbiQgsuEM66Gzqi+q7dDtTFmaOvKqK4t17prmnr35t1ttV2VZaV0P3TlV9/+cDafglMOo8B452iFGRfMO0MZCcEzgkQQm8iqqqfzMefEGhWcct6EQKngs6PD8cXF5cUlkm+z6azt+ifPPx7UYIxhhLlWAwQkFBAdAca5cD44Z513jDJ/1x8dEAgSYvxeRvac7C+zARILK+XjX/3FL169+93/9bcBQPDkb/6P/0fMD/7yn/+nf/O//s1//z/8t6lAkaS/+/3f/fmf//p//ut/e7Mpp9OCCt50A6Vkdnyw2VR102pjpOQhBAh+nMZ0uLldv2921fTkQTGdMI7O9VVZFUUcCdI1LWERMOKsZwjnT57I8eGzLyMeZ9PDs1ExipI4yfI4SRmCEDzORjJJEPfjuJ2zzlnnjPIhWNV39W5oq93qoi9vH9xeXLx503Td1eX79apMZfTp4yNrbUDSGyhrbTBCY6y1EDxjhBFqnCOEBmRd00aJpGBVcOAcocR7SyGMp5PLqysfwngyffAwH4/zpx9/5ANoY4PTIXjOmHWeIP7/mPtSBLdUgmkAAAAASUVORK5CYII=\n",
                "text/plain": "<PIL.Image.Image image mode=RGB size=128x128 at 0x7F5E0844F4A8>"
              }
            ],
            "_view_module": "@jupyter-widgets/output",
            "_model_module_version": "1.0.0",
            "_view_count": null,
            "_view_module_version": "1.0.0",
            "layout": "IPY_MODEL_29a991f7560843ed98c1ed707b5d7619",
            "_model_module": "@jupyter-widgets/output"
          }
        },
        "2523159d7a8e491d91972d5bb4c787da": {
          "model_module": "@jupyter-widgets/controls",
          "model_name": "LabelModel",
          "state": {
            "_view_name": "LabelView",
            "style": "IPY_MODEL_80b40f0ce2534ac08d482c0b050a86e8",
            "_dom_classes": [],
            "description": "",
            "_model_name": "LabelModel",
            "placeholder": "​",
            "_view_module": "@jupyter-widgets/controls",
            "_model_module_version": "1.5.0",
            "value": "Prediction: grizzly; Probability: 0.9999",
            "_view_count": null,
            "_view_module_version": "1.5.0",
            "description_tooltip": null,
            "_model_module": "@jupyter-widgets/controls",
            "layout": "IPY_MODEL_06b77947ea7548009e2c391f6b99a412"
          }
        },
        "8ce46892a66e4dc1a90ec227912edc13": {
          "model_module": "@jupyter-widgets/controls",
          "model_name": "DescriptionStyleModel",
          "state": {
            "_view_name": "StyleView",
            "_model_name": "DescriptionStyleModel",
            "description_width": "",
            "_view_module": "@jupyter-widgets/base",
            "_model_module_version": "1.5.0",
            "_view_count": null,
            "_view_module_version": "1.2.0",
            "_model_module": "@jupyter-widgets/controls"
          }
        },
        "a9693e0b38f44cc1a31c418269a900f0": {
          "model_module": "@jupyter-widgets/base",
          "model_name": "LayoutModel",
          "state": {
            "_view_name": "LayoutView",
            "grid_template_rows": null,
            "right": null,
            "justify_content": null,
            "_view_module": "@jupyter-widgets/base",
            "overflow": null,
            "_model_module_version": "1.2.0",
            "_view_count": null,
            "flex_flow": null,
            "width": null,
            "min_width": null,
            "border": null,
            "align_items": null,
            "bottom": null,
            "_model_module": "@jupyter-widgets/base",
            "top": null,
            "grid_column": null,
            "overflow_y": null,
            "overflow_x": null,
            "grid_auto_flow": null,
            "grid_area": null,
            "grid_template_columns": null,
            "flex": null,
            "_model_name": "LayoutModel",
            "justify_items": null,
            "grid_row": null,
            "max_height": null,
            "align_content": null,
            "visibility": null,
            "align_self": null,
            "height": null,
            "min_height": null,
            "padding": null,
            "grid_auto_rows": null,
            "grid_gap": null,
            "max_width": null,
            "order": null,
            "_view_module_version": "1.2.0",
            "grid_template_areas": null,
            "object_position": null,
            "object_fit": null,
            "grid_auto_columns": null,
            "margin": null,
            "display": null,
            "left": null
          }
        },
        "1520fa68bbf3499da3fb27f7997d4550": {
          "model_module": "@jupyter-widgets/controls",
          "model_name": "ButtonStyleModel",
          "state": {
            "_view_name": "StyleView",
            "_model_name": "ButtonStyleModel",
            "_view_module": "@jupyter-widgets/base",
            "_model_module_version": "1.5.0",
            "_view_count": null,
            "button_color": null,
            "font_weight": "",
            "_view_module_version": "1.2.0",
            "_model_module": "@jupyter-widgets/controls"
          }
        },
        "9675e93b18c74112b2eecda193efcc08": {
          "model_module": "@jupyter-widgets/base",
          "model_name": "LayoutModel",
          "state": {
            "_view_name": "LayoutView",
            "grid_template_rows": null,
            "right": null,
            "justify_content": null,
            "_view_module": "@jupyter-widgets/base",
            "overflow": null,
            "_model_module_version": "1.2.0",
            "_view_count": null,
            "flex_flow": null,
            "width": null,
            "min_width": null,
            "border": null,
            "align_items": null,
            "bottom": null,
            "_model_module": "@jupyter-widgets/base",
            "top": null,
            "grid_column": null,
            "overflow_y": null,
            "overflow_x": null,
            "grid_auto_flow": null,
            "grid_area": null,
            "grid_template_columns": null,
            "flex": null,
            "_model_name": "LayoutModel",
            "justify_items": null,
            "grid_row": null,
            "max_height": null,
            "align_content": null,
            "visibility": null,
            "align_self": null,
            "height": null,
            "min_height": null,
            "padding": null,
            "grid_auto_rows": null,
            "grid_gap": null,
            "max_width": null,
            "order": null,
            "_view_module_version": "1.2.0",
            "grid_template_areas": null,
            "object_position": null,
            "object_fit": null,
            "grid_auto_columns": null,
            "margin": null,
            "display": null,
            "left": null
          }
        },
        "bf2beb1dba7e4e0cbeb07b9e5dc3fe0b": {
          "model_module": "@jupyter-widgets/controls",
          "model_name": "ButtonStyleModel",
          "state": {
            "_view_name": "StyleView",
            "_model_name": "ButtonStyleModel",
            "_view_module": "@jupyter-widgets/base",
            "_model_module_version": "1.5.0",
            "_view_count": null,
            "button_color": null,
            "font_weight": "",
            "_view_module_version": "1.2.0",
            "_model_module": "@jupyter-widgets/controls"
          }
        },
        "50a57ff810984b16b1bc0d4feb5ef87e": {
          "model_module": "@jupyter-widgets/base",
          "model_name": "LayoutModel",
          "state": {
            "_view_name": "LayoutView",
            "grid_template_rows": null,
            "right": null,
            "justify_content": null,
            "_view_module": "@jupyter-widgets/base",
            "overflow": null,
            "_model_module_version": "1.2.0",
            "_view_count": null,
            "flex_flow": null,
            "width": null,
            "min_width": null,
            "border": null,
            "align_items": null,
            "bottom": null,
            "_model_module": "@jupyter-widgets/base",
            "top": null,
            "grid_column": null,
            "overflow_y": null,
            "overflow_x": null,
            "grid_auto_flow": null,
            "grid_area": null,
            "grid_template_columns": null,
            "flex": null,
            "_model_name": "LayoutModel",
            "justify_items": null,
            "grid_row": null,
            "max_height": null,
            "align_content": null,
            "visibility": null,
            "align_self": null,
            "height": null,
            "min_height": null,
            "padding": null,
            "grid_auto_rows": null,
            "grid_gap": null,
            "max_width": null,
            "order": null,
            "_view_module_version": "1.2.0",
            "grid_template_areas": null,
            "object_position": null,
            "object_fit": null,
            "grid_auto_columns": null,
            "margin": null,
            "display": null,
            "left": null
          }
        },
        "80b40f0ce2534ac08d482c0b050a86e8": {
          "model_module": "@jupyter-widgets/controls",
          "model_name": "DescriptionStyleModel",
          "state": {
            "_view_name": "StyleView",
            "_model_name": "DescriptionStyleModel",
            "description_width": "",
            "_view_module": "@jupyter-widgets/base",
            "_model_module_version": "1.5.0",
            "_view_count": null,
            "_view_module_version": "1.2.0",
            "_model_module": "@jupyter-widgets/controls"
          }
        },
        "06b77947ea7548009e2c391f6b99a412": {
          "model_module": "@jupyter-widgets/base",
          "model_name": "LayoutModel",
          "state": {
            "_view_name": "LayoutView",
            "grid_template_rows": null,
            "right": null,
            "justify_content": null,
            "_view_module": "@jupyter-widgets/base",
            "overflow": null,
            "_model_module_version": "1.2.0",
            "_view_count": null,
            "flex_flow": null,
            "width": null,
            "min_width": null,
            "border": null,
            "align_items": null,
            "bottom": null,
            "_model_module": "@jupyter-widgets/base",
            "top": null,
            "grid_column": null,
            "overflow_y": null,
            "overflow_x": null,
            "grid_auto_flow": null,
            "grid_area": null,
            "grid_template_columns": null,
            "flex": null,
            "_model_name": "LayoutModel",
            "justify_items": null,
            "grid_row": null,
            "max_height": null,
            "align_content": null,
            "visibility": null,
            "align_self": null,
            "height": null,
            "min_height": null,
            "padding": null,
            "grid_auto_rows": null,
            "grid_gap": null,
            "max_width": null,
            "order": null,
            "_view_module_version": "1.2.0",
            "grid_template_areas": null,
            "object_position": null,
            "object_fit": null,
            "grid_auto_columns": null,
            "margin": null,
            "display": null,
            "left": null
          }
        },
        "29a991f7560843ed98c1ed707b5d7619": {
          "model_module": "@jupyter-widgets/base",
          "model_name": "LayoutModel",
          "state": {
            "_view_name": "LayoutView",
            "grid_template_rows": null,
            "right": null,
            "justify_content": null,
            "_view_module": "@jupyter-widgets/base",
            "overflow": null,
            "_model_module_version": "1.2.0",
            "_view_count": null,
            "flex_flow": null,
            "width": null,
            "min_width": null,
            "border": null,
            "align_items": null,
            "bottom": null,
            "_model_module": "@jupyter-widgets/base",
            "top": null,
            "grid_column": null,
            "overflow_y": null,
            "overflow_x": null,
            "grid_auto_flow": null,
            "grid_area": null,
            "grid_template_columns": null,
            "flex": null,
            "_model_name": "LayoutModel",
            "justify_items": null,
            "grid_row": null,
            "max_height": null,
            "align_content": null,
            "visibility": null,
            "align_self": null,
            "height": null,
            "min_height": null,
            "padding": null,
            "grid_auto_rows": null,
            "grid_gap": null,
            "max_width": null,
            "order": null,
            "_view_module_version": "1.2.0",
            "grid_template_areas": null,
            "object_position": null,
            "object_fit": null,
            "grid_auto_columns": null,
            "margin": null,
            "display": null,
            "left": null
          }
        }
      }
    }
  },
  "cells": [
    {
      "cell_type": "code",
      "metadata": {
        "colab": {
          "base_uri": "https://localhost:8080/"
        },
        "id": "fRzOtbIEb0f1",
        "outputId": "813cb071-c8bf-40d0-ec15-7cae7f75048a"
      },
      "source": [
        "#!pip install -Uqq fastbook\n",
        "#import fastbook\n",
        "#fastbook.setup_book()"
      ],
      "execution_count": null,
      "outputs": [
        {
          "output_type": "stream",
          "text": [
            "\u001b[K     |████████████████████████████████| 727kB 10.7MB/s \n",
            "\u001b[K     |████████████████████████████████| 51kB 5.1MB/s \n",
            "\u001b[K     |████████████████████████████████| 1.2MB 30.0MB/s \n",
            "\u001b[K     |████████████████████████████████| 194kB 65.6MB/s \n",
            "\u001b[K     |████████████████████████████████| 61kB 7.2MB/s \n",
            "\u001b[?25hMounted at /content/gdrive\n"
          ],
          "name": "stdout"
        }
      ]
    },
    {
      "cell_type": "code",
      "metadata": {
        "id": "vqTa-H0Lb66H"
      },
      "source": [
        "#from fastbook import *\n",
        "from fastai.vision.all import *\n",
        "from fastai.vision.widgets import *"
      ],
      "execution_count": null,
      "outputs": []
    },
    {
      "cell_type": "code",
      "metadata": {
        "colab": {
          "base_uri": "https://localhost:8080/"
        },
        "id": "Mf7QGOVPcYw9",
        "outputId": "e50d4237-75a8-4da0-a458-6272c6b3ab19"
      },
      "source": [
        "#path = Path('gdrive/MyDrive/ModernCOLORS/bears')\n",
        "#path.ls(file_exts='.pkl')\n",
        "path = Path()\n",
        "learn_inf = load_learner(path/'export2.pkl', cpu=True)"
      ],
      "execution_count": null,
      "outputs": [
        {
          "output_type": "stream",
          "text": [
            "gdrive/MyDrive/ModernCOLORS/bears\n"
          ],
          "name": "stdout"
        },
        {
          "output_type": "execute_result",
          "data": {
            "text/plain": [
              "(#9) [Path('gdrive/MyDrive/ModernCOLORS/bears/grizzly_bear.csv'),Path('gdrive/MyDrive/ModernCOLORS/bears/teddys.csv'),Path('gdrive/MyDrive/ModernCOLORS/bears/black_bear.csv'),Path('gdrive/MyDrive/ModernCOLORS/bears/teddys'),Path('gdrive/MyDrive/ModernCOLORS/bears/grizzly'),Path('gdrive/MyDrive/ModernCOLORS/bears/black'),Path('gdrive/MyDrive/ModernCOLORS/bears/models'),Path('gdrive/MyDrive/ModernCOLORS/bears/export.pkl'),Path('gdrive/MyDrive/ModernCOLORS/bears/export2.pkl')]"
            ]
          },
          "metadata": {
            "tags": []
          },
          "execution_count": 31
        }
      ]
    },
    {
      "cell_type": "code",
      "metadata": {
        "id": "LHvjreaGcJEg"
      },
      "source": [
        "#learn_inf = load_learner(path/'export2.pkl')"
      ],
      "execution_count": null,
      "outputs": []
    },
    {
      "cell_type": "code",
      "metadata": {
        "id": "338wcY4riS9v"
      },
      "source": [
        "btn_upload = widgets.FileUpload()"
      ],
      "execution_count": null,
      "outputs": []
    },
    {
      "cell_type": "code",
      "metadata": {
        "id": "J4UEXlCciVH-"
      },
      "source": [
        "out_pl = widgets.Output()\n",
        "lbl_pred = widgets.Label()\n",
        "btn_run = widgets.Button(description='Classify')"
      ],
      "execution_count": null,
      "outputs": []
    },
    {
      "cell_type": "code",
      "metadata": {
        "id": "bNp9jZ4Rie6S"
      },
      "source": [
        "def on_click_classify(change):\n",
        "    img = PILImage.create(btn_upload.data[-1])\n",
        "    out_pl.clear_output()\n",
        "    with out_pl: display(img.to_thumb(128,128))\n",
        "    pred,pred_idx,probs = learn_inf.predict(img)\n",
        "    lbl_pred.value = f'Prediction: {pred}; Probability: {probs[pred_idx]:.04f}'\n",
        "\n",
        "btn_run.on_click(on_click_classify)\n"
      ],
      "execution_count": null,
      "outputs": []
    },
    {
      "cell_type": "code",
      "metadata": {
        "colab": {
          "base_uri": "https://localhost:8080/",
          "height": 273,
          "referenced_widgets": [
            "78af957b94944869afc290b7ceddc6e8",
            "62d59f6a9b0d4406a673958352faffa0",
            "f405b4b8e62c490fae22f7495122a179",
            "f7a2aace6bb448d2950a25d772050d97",
            "4fcd9c85c3ea418fb365cc92c512276f",
            "3d43367941b9468b8d5d75b7b198adca",
            "2523159d7a8e491d91972d5bb4c787da",
            "8ce46892a66e4dc1a90ec227912edc13",
            "a9693e0b38f44cc1a31c418269a900f0",
            "1520fa68bbf3499da3fb27f7997d4550",
            "9675e93b18c74112b2eecda193efcc08",
            "bf2beb1dba7e4e0cbeb07b9e5dc3fe0b",
            "50a57ff810984b16b1bc0d4feb5ef87e",
            "80b40f0ce2534ac08d482c0b050a86e8",
            "06b77947ea7548009e2c391f6b99a412",
            "29a991f7560843ed98c1ed707b5d7619"
          ]
        },
        "id": "ZlgC4maJiPQw",
        "outputId": "f4091ec7-4f3d-45cf-85dc-cc2f8bde9333"
      },
      "source": [
        "#hide_output\n",
        "VBox([widgets.Label('Select your bear!'), \n",
        "      btn_upload, btn_run, out_pl, lbl_pred])"
      ],
      "execution_count": null,
      "outputs": [
        {
          "output_type": "display_data",
          "data": {
            "application/vnd.jupyter.widget-view+json": {
              "model_id": "78af957b94944869afc290b7ceddc6e8",
              "version_minor": 0,
              "version_major": 2
            },
            "text/plain": [
              "VBox(children=(Label(value='Select your bear!'), FileUpload(value={}, description='Upload'), Button(descriptio…"
            ]
          },
          "metadata": {
            "tags": []
          }
        },
        {
          "output_type": "display_data",
          "data": {
            "text/html": [
              ""
            ],
            "text/plain": [
              "<IPython.core.display.HTML object>"
            ]
          },
          "metadata": {
            "tags": []
          }
        }
      ]
    },
    {
      "cell_type": "code",
      "metadata": {
        "colab": {
          "base_uri": "https://localhost:8080/"
        },
        "id": "LtCTCl1ZkAyg",
        "outputId": "54bdd994-f86c-4a7e-8c65-65c1fe226eb5"
      },
      "source": [
        "#!pip install voila\n",
        "#!jupyter serverextension enable --sys-prefix voila"
      ],
      "execution_count": 42,
      "outputs": [
        {
          "output_type": "stream",
          "text": [
            "Requirement already satisfied: voila in /usr/local/lib/python3.6/dist-packages (0.2.7)\n",
            "Requirement already satisfied: nbconvert<7,>=6.0.0 in /usr/local/lib/python3.6/dist-packages (from voila) (6.0.7)\n",
            "Requirement already satisfied: jupyter-client<7,>=6.1.3 in /usr/local/lib/python3.6/dist-packages (from voila) (6.1.11)\n",
            "Requirement already satisfied: nbclient<0.6,>=0.4.0 in /usr/local/lib/python3.6/dist-packages (from voila) (0.5.2)\n",
            "Requirement already satisfied: jupyter-server<2.0.0,>=0.3.0 in /usr/local/lib/python3.6/dist-packages (from voila) (1.4.0)\n",
            "Requirement already satisfied: pygments>=2.4.1 in /usr/local/lib/python3.6/dist-packages (from nbconvert<7,>=6.0.0->voila) (2.6.1)\n",
            "Requirement already satisfied: jupyterlab-pygments in /usr/local/lib/python3.6/dist-packages (from nbconvert<7,>=6.0.0->voila) (0.1.2)\n",
            "Requirement already satisfied: entrypoints>=0.2.2 in /usr/local/lib/python3.6/dist-packages (from nbconvert<7,>=6.0.0->voila) (0.3)\n",
            "Requirement already satisfied: traitlets>=4.2 in /usr/local/lib/python3.6/dist-packages (from nbconvert<7,>=6.0.0->voila) (4.3.3)\n",
            "Requirement already satisfied: jupyter-core in /usr/local/lib/python3.6/dist-packages (from nbconvert<7,>=6.0.0->voila) (4.7.1)\n",
            "Requirement already satisfied: defusedxml in /usr/local/lib/python3.6/dist-packages (from nbconvert<7,>=6.0.0->voila) (0.6.0)\n",
            "Requirement already satisfied: pandocfilters>=1.4.1 in /usr/local/lib/python3.6/dist-packages (from nbconvert<7,>=6.0.0->voila) (1.4.3)\n",
            "Requirement already satisfied: bleach in /usr/local/lib/python3.6/dist-packages (from nbconvert<7,>=6.0.0->voila) (3.3.0)\n",
            "Requirement already satisfied: nbformat>=4.4 in /usr/local/lib/python3.6/dist-packages (from nbconvert<7,>=6.0.0->voila) (5.1.2)\n",
            "Requirement already satisfied: testpath in /usr/local/lib/python3.6/dist-packages (from nbconvert<7,>=6.0.0->voila) (0.4.4)\n",
            "Requirement already satisfied: jinja2>=2.4 in /usr/local/lib/python3.6/dist-packages (from nbconvert<7,>=6.0.0->voila) (2.11.3)\n",
            "Requirement already satisfied: mistune<2,>=0.8.1 in /usr/local/lib/python3.6/dist-packages (from nbconvert<7,>=6.0.0->voila) (0.8.4)\n",
            "Requirement already satisfied: python-dateutil>=2.1 in /usr/local/lib/python3.6/dist-packages (from jupyter-client<7,>=6.1.3->voila) (2.8.1)\n",
            "Requirement already satisfied: tornado>=4.1 in /usr/local/lib/python3.6/dist-packages (from jupyter-client<7,>=6.1.3->voila) (6.1)\n",
            "Requirement already satisfied: pyzmq>=13 in /usr/local/lib/python3.6/dist-packages (from jupyter-client<7,>=6.1.3->voila) (22.0.2)\n",
            "Requirement already satisfied: nest-asyncio in /usr/local/lib/python3.6/dist-packages (from nbclient<0.6,>=0.4.0->voila) (1.5.1)\n",
            "Requirement already satisfied: async-generator in /usr/local/lib/python3.6/dist-packages (from nbclient<0.6,>=0.4.0->voila) (1.10)\n",
            "Requirement already satisfied: ipython-genutils in /usr/local/lib/python3.6/dist-packages (from jupyter-server<2.0.0,>=0.3.0->voila) (0.2.0)\n",
            "Requirement already satisfied: anyio>=2.0.2 in /usr/local/lib/python3.6/dist-packages (from jupyter-server<2.0.0,>=0.3.0->voila) (2.1.0)\n",
            "Requirement already satisfied: prometheus-client in /usr/local/lib/python3.6/dist-packages (from jupyter-server<2.0.0,>=0.3.0->voila) (0.9.0)\n",
            "Requirement already satisfied: Send2Trash in /usr/local/lib/python3.6/dist-packages (from jupyter-server<2.0.0,>=0.3.0->voila) (1.5.0)\n",
            "Requirement already satisfied: terminado>=0.8.3 in /usr/local/lib/python3.6/dist-packages (from jupyter-server<2.0.0,>=0.3.0->voila) (0.9.2)\n",
            "Requirement already satisfied: decorator in /usr/local/lib/python3.6/dist-packages (from traitlets>=4.2->nbconvert<7,>=6.0.0->voila) (4.4.2)\n",
            "Requirement already satisfied: six in /usr/local/lib/python3.6/dist-packages (from traitlets>=4.2->nbconvert<7,>=6.0.0->voila) (1.15.0)\n",
            "Requirement already satisfied: packaging in /usr/local/lib/python3.6/dist-packages (from bleach->nbconvert<7,>=6.0.0->voila) (20.9)\n",
            "Requirement already satisfied: webencodings in /usr/local/lib/python3.6/dist-packages (from bleach->nbconvert<7,>=6.0.0->voila) (0.5.1)\n",
            "Requirement already satisfied: jsonschema!=2.5.0,>=2.4 in /usr/local/lib/python3.6/dist-packages (from nbformat>=4.4->nbconvert<7,>=6.0.0->voila) (2.6.0)\n",
            "Requirement already satisfied: MarkupSafe>=0.23 in /usr/local/lib/python3.6/dist-packages (from jinja2>=2.4->nbconvert<7,>=6.0.0->voila) (1.1.1)\n",
            "Requirement already satisfied: sniffio>=1.1 in /usr/local/lib/python3.6/dist-packages (from anyio>=2.0.2->jupyter-server<2.0.0,>=0.3.0->voila) (1.2.0)\n",
            "Requirement already satisfied: idna>=2.8 in /usr/local/lib/python3.6/dist-packages (from anyio>=2.0.2->jupyter-server<2.0.0,>=0.3.0->voila) (2.10)\n",
            "Requirement already satisfied: typing-extensions; python_version < \"3.8\" in /usr/local/lib/python3.6/dist-packages (from anyio>=2.0.2->jupyter-server<2.0.0,>=0.3.0->voila) (3.7.4.3)\n",
            "Requirement already satisfied: dataclasses; python_version < \"3.7\" in /usr/local/lib/python3.6/dist-packages (from anyio>=2.0.2->jupyter-server<2.0.0,>=0.3.0->voila) (0.8)\n",
            "Requirement already satisfied: ptyprocess; os_name != \"nt\" in /usr/local/lib/python3.6/dist-packages (from terminado>=0.8.3->jupyter-server<2.0.0,>=0.3.0->voila) (0.7.0)\n",
            "Requirement already satisfied: pyparsing>=2.0.2 in /usr/local/lib/python3.6/dist-packages (from packaging->bleach->nbconvert<7,>=6.0.0->voila) (2.4.7)\n",
            "Requirement already satisfied: contextvars>=2.1; python_version < \"3.7\" in /usr/local/lib/python3.6/dist-packages (from sniffio>=1.1->anyio>=2.0.2->jupyter-server<2.0.0,>=0.3.0->voila) (2.4)\n",
            "Requirement already satisfied: immutables>=0.9 in /usr/local/lib/python3.6/dist-packages (from contextvars>=2.1; python_version < \"3.7\"->sniffio>=1.1->anyio>=2.0.2->jupyter-server<2.0.0,>=0.3.0->voila) (0.15)\n",
            "Enabling: voila\n",
            "- Writing config: /usr/etc/jupyter\n",
            "    - Validating...\n",
            "Error loading server extension voila\n",
            "     \u001b[31m X\u001b[0m is voila importable?\n"
          ],
          "name": "stdout"
        }
      ]
    },
    {
      "cell_type": "code",
      "metadata": {
        "id": "ECCy2_dfkU5f"
      },
      "source": [
        ""
      ],
      "execution_count": null,
      "outputs": []
    }
  ]
}